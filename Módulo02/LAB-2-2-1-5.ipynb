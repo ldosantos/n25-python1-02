{
 "cells": [
  {
   "cell_type": "markdown",
   "metadata": {},
   "source": [
    "# Laboratório 2-1-5"
   ]
  },
  {
   "cell_type": "code",
   "execution_count": 40,
   "metadata": {},
   "outputs": [
    {
     "name": "stdout",
     "output_type": "stream",
     "text": [
      "Ola, Python!\n",
      "LUIZ\n"
     ]
    }
   ],
   "source": [
    "print(\"Ola, Python!\"); \n",
    "print ('LUIZ')\n",
    "\n"
   ]
  },
  {
   "cell_type": "markdown",
   "metadata": {},
   "source": [
    "##### CONTINUANDO SOBRE O PRINT"
   ]
  },
  {
   "cell_type": "code",
   "execution_count": 41,
   "metadata": {},
   "outputs": [
    {
     "name": "stdout",
     "output_type": "stream",
     "text": [
      "A pequenina aranha escalou a tromba d'água.\n",
      "\n",
      "Caiu a chuva e lavou a aranha.\n"
     ]
    }
   ],
   "source": [
    "print(\"A pequenina aranha escalou a tromba d'água.\")\n",
    "print()\n",
    "print(\"Caiu a chuva e lavou a aranha.\")"
   ]
  },
  {
   "cell_type": "markdown",
   "metadata": {},
   "source": [
    "#### Mais um Para Print"
   ]
  },
  {
   "cell_type": "code",
   "execution_count": 42,
   "metadata": {},
   "outputs": [
    {
     "name": "stdout",
     "output_type": "stream",
     "text": [
      "A aranha pequenininha\n",
      "subiu a tromba d'água\n",
      "\n",
      "abaixo veio a chuva\n",
      "e lavou a aranha\n"
     ]
    }
   ],
   "source": [
    "print(\"A aranha pequenininha\\nsubiu a tromba d'água\")\n",
    "print ()\n",
    "print (\"abaixo veio a chuva\\ne lavou a aranha\")"
   ]
  },
  {
   "cell_type": "code",
   "execution_count": 43,
   "metadata": {},
   "outputs": [
    {
     "name": "stdout",
     "output_type": "stream",
     "text": [
      "\"\n",
      "\\\n",
      "1234\t5678\t90\n"
     ]
    }
   ],
   "source": [
    "print (\"\\\"\")\n",
    "print (\"\\\\\")\n",
    "print (\"1234\\t5678\\t90\")"
   ]
  },
  {
   "cell_type": "markdown",
   "metadata": {},
   "source": [
    "### PRINT COM VÁRIOS ARGUMENTOS"
   ]
  },
  {
   "cell_type": "code",
   "execution_count": 44,
   "metadata": {},
   "outputs": [
    {
     "name": "stdout",
     "output_type": "stream",
     "text": [
      "A aranha pequenina subiu a tromba d'água.\n",
      "A aranha pequenina \n",
      "subiu a tromba \td'água.\n"
     ]
    }
   ],
   "source": [
    "print (\"A aranha pequenina\", \"subiu\", \"a tromba d'água.\")\n",
    "print (\"A aranha pequenina\", \"\\nsubiu\", \"a tromba \\td'água.\")"
   ]
  },
  {
   "cell_type": "markdown",
   "metadata": {},
   "source": [
    "### TESTANDO O END E SEP (ARGUMENTO PALAVRA CHAVE OU NOMEADO)"
   ]
  },
  {
   "cell_type": "code",
   "execution_count": 45,
   "metadata": {},
   "outputs": [
    {
     "name": "stdout",
     "output_type": "stream",
     "text": [
      "Meu nome é Python. Monty Python.\n",
      "Meu-Nome-é-Monty-Python.\n"
     ]
    }
   ],
   "source": [
    "print (\"Meu nome é\", \"Python.\", end=\" \")\n",
    "print (\"Monty Python.\")\n",
    "print (\"Meu\", \"Nome\", \"é\", \"Monty\", \"Python.\", sep=\"-\")"
   ]
  },
  {
   "cell_type": "markdown",
   "metadata": {},
   "source": [
    "### VÁRIOS"
   ]
  },
  {
   "cell_type": "code",
   "execution_count": 46,
   "metadata": {},
   "outputs": [
    {
     "name": "stdout",
     "output_type": "stream",
     "text": [
      "Meu_nome_é*Monty*Python.*\n"
     ]
    }
   ],
   "source": [
    "print(\"Meu\", \"nome\", \"é\", sep=\"_\", end=\"*\")\n",
    "print(\"Monty\", \"Python.\", sep=\"*\", end=\"*\\n\")"
   ]
  },
  {
   "cell_type": "markdown",
   "metadata": {},
   "source": [
    "## Laboratório 2-1-12\n",
    "#### Saída esperada:\n",
    "''' python\n",
    "Programação*** Essenciais *** em...Python\n",
    "'''"
   ]
  },
  {
   "cell_type": "code",
   "execution_count": 47,
   "metadata": {},
   "outputs": [
    {
     "name": "stdout",
     "output_type": "stream",
     "text": [
      "Programação***Essenciais***em...Python\n",
      "Luiz - Donizeti"
     ]
    }
   ],
   "source": [
    "print(\"Programação\",\"Essenciais\", \"em\", sep=\"***\",end=\"...\")\n",
    "print(\"Python\")\n",
    "\n",
    "# Nunca iniciar a função pelo \"sep\" ou \"end\" sempre com os nomeados, dessa forma sempre dará certo#\n",
    "# Print (sep=\"-\", \"argumento1\",\"argumento2\") <<< Nunca fazer isso por exemplo\n",
    "print(\"Luiz\", \"Donizeti\", sep=\" - \",end =\"\")"
   ]
  },
  {
   "cell_type": "markdown",
   "metadata": {},
   "source": [
    "# LABORATÓRIO 2-1-13"
   ]
  },
  {
   "cell_type": "code",
   "execution_count": null,
   "metadata": {},
   "outputs": [
    {
     "name": "stdout",
     "output_type": "stream",
     "text": [
      "    *          *          *          *      \n",
      "   * *        * *        * *        * *     \n",
      "  *   *      *   *      *   *      *   *    \n",
      " *     *    *     *    *     *    *     *   \n",
      "***   ***  ***   ***  ***   ***  ***   ***  \n",
      "  *   *      *   *      *   *      *   *    \n",
      "  *   *      *   *      *   *      *   *    \n",
      "  *****      *****      *****      *****    \n"
     ]
    }
   ],
   "source": [
    "print(\"    *      \"*4)\n",
    "print(\"   * *     \"*4)\n",
    "print(\"  *   *    \"*4)\n",
    "print(\" *     *   \"*4)\n",
    "print(\"***   ***  \"*4)\n",
    "print(\"  *   *    \"*4)\n",
    "print(\"  *   *    \"*4)\n",
    "print(\"  *****    \"*4)"
   ]
  }
 ],
 "metadata": {
  "kernelspec": {
   "display_name": ".venv",
   "language": "python",
   "name": "python3"
  },
  "language_info": {
   "codemirror_mode": {
    "name": "ipython",
    "version": 3
   },
   "file_extension": ".py",
   "mimetype": "text/x-python",
   "name": "python",
   "nbconvert_exporter": "python",
   "pygments_lexer": "ipython3",
   "version": "3.13.2"
  }
 },
 "nbformat": 4,
 "nbformat_minor": 2
}
