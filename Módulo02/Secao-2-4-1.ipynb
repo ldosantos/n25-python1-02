{
 "cells": [
  {
   "cell_type": "markdown",
   "metadata": {},
   "source": [
    "# Variáveis"
   ]
  },
  {
   "cell_type": "code",
   "execution_count": null,
   "metadata": {},
   "outputs": [
    {
     "name": "stdout",
     "output_type": "stream",
     "text": [
      "45\n",
      "46\n",
      "46\n"
     ]
    }
   ],
   "source": [
    "#### todo lugar que eu armazenar em determinado momento. Um exemplo dessa variável é o próprio Excel onde suas colunas são letras e linhas números exemplo A1.\n",
    "\n",
    "Idade = 45   ### <<<< criação da variável agora idade vale 45\n",
    "\n",
    "print(Idade)  ### olha o exemplo o resultado foi 45.\n",
    "print(Idade + 1) ### ou\n",
    "\n",
    "Idade = Idade + 1\n",
    "\n",
    "print (Idade)\n",
    "\n",
    "## regras abaixo."
   ]
  },
  {
   "cell_type": "markdown",
   "metadata": {},
   "source": [
    "### Regras para o nome de uma variável\n",
    "- Deve se iniciar com letra ou _\n",
    "- Não pode conter caracter especial (salvo acentuacao) - LETRAS NÚMEROS E _ (ESPAÇO EM BRANCO NEM PENSAR)\n",
    "- Pode - se usar letras, números ou _ Desde que atenda a primeira regra\n",
    "- O Python faz diferença entre maiúsculas e minúsculas\n",
    "- Não pode ser uma palavra reservada do Python"
   ]
  },
  {
   "cell_type": "code",
   "execution_count": 7,
   "metadata": {},
   "outputs": [
    {
     "name": "stdout",
     "output_type": "stream",
     "text": [
      "5\n"
     ]
    }
   ],
   "source": [
    "x = 5\n",
    "y = 10\n",
    "\n",
    "print(abs(x-y))"
   ]
  },
  {
   "cell_type": "markdown",
   "metadata": {},
   "source": [
    "## Laboratório 2.4.7"
   ]
  },
  {
   "cell_type": "code",
   "execution_count": 42,
   "metadata": {},
   "outputs": [
    {
     "name": "stdout",
     "output_type": "stream",
     "text": [
      "3, 5, 6\n",
      "Total de maçãs : 14\n",
      "John é: 21.43 % do total\n"
     ]
    }
   ],
   "source": [
    "###variáveis\n",
    "\n",
    "john = 3\n",
    "mary = 5\n",
    "adam = 6\n",
    "\n",
    "print(john, mary, adam, sep=\", \")\n",
    "\n",
    "total_apples = john + mary + adam\n",
    "\n",
    "print(\"Total de maçãs\", total_apples, sep = \" : \")\n",
    "\n",
    "print (\"John é:\",round((john/total_apples),4)*100,\"%\",\"do total\")\n",
    "\n"
   ]
  },
  {
   "cell_type": "markdown",
   "metadata": {},
   "source": [
    "### Operador de atalho\n",
    "\n",
    "operador = operador operacao valor => operador operacao=valor resumindo\n",
    "idade = idade + 5 => idade += 5"
   ]
  },
  {
   "cell_type": "code",
   "execution_count": null,
   "metadata": {},
   "outputs": [
    {
     "name": "stdout",
     "output_type": "stream",
     "text": [
      "7\n",
      "49\n"
     ]
    }
   ],
   "source": [
    "variavel = 2\n",
    "#variavel = variavel + 5 \n",
    "variavel += 5\n",
    "\n",
    "print (variavel)\n",
    "#variavel = variavel * 5 + 2\n",
    "\n",
    "variavel *=  5 + 2    ##operador de atalho vai realizar o inverso, ou seja ai ele somou antes de multiplicar, tomar cuidado como irá fazer a conta. No caso \"variável *<<esse é o atalho grava isso= 5+2\" a váriavel vale sete devido aos atalhos que utilizamos em outras linhas por isso 7x7=49\n",
    "\n",
    "print(variavel)"
   ]
  },
  {
   "cell_type": "markdown",
   "metadata": {},
   "source": [
    "## Laboratório 2.4.9"
   ]
  },
  {
   "cell_type": "code",
   "execution_count": null,
   "metadata": {},
   "outputs": [
    {
     "name": "stdout",
     "output_type": "stream",
     "text": [
      "7.38 milhas é 11.88 quilômetros\n",
      "12.25 quilômetros é 7.61 milhas\n"
     ]
    }
   ],
   "source": [
    "kilometers = 12.25\n",
    "miles = 7.38\n",
    "one_miles_2_k = 1.61\n",
    "\n",
    "miles_to_kilometers = (miles * one_miles_2_k)\n",
    "kilometers_to_miles = (kilometers / one_miles_2_k)\n",
    "\n",
    "print(miles, \"milhas é\", round(miles_to_kilometers, 2), \"quilômetros\")\n",
    "print(kilometers, \"quilômetros é\", round(kilometers_to_miles, 2), \"milhas\")   ## round é para arredondar as casas decimais"
   ]
  },
  {
   "cell_type": "markdown",
   "metadata": {},
   "source": [
    "## Laboratório 2.4.10\n",
    "3x³ - 2x² + 3x - 1\n",
    "\n",
    "- x=0, x=1, x=-1\n",
    "- Exemplo de sáida\n",
    "- y = -1.0, y=3.0, y=-9.0"
   ]
  },
  {
   "cell_type": "code",
   "execution_count": 52,
   "metadata": {},
   "outputs": [
    {
     "name": "stdout",
     "output_type": "stream",
     "text": [
      "-1.0\n",
      "y = 10\n"
     ]
    }
   ],
   "source": [
    "x = 0 # Codifique seus dados de teste aqui.\n",
    "x = float(x)\n",
    "### Escreva seu código aqui\n",
    "\n",
    "print (3*x**3 -2*x**2+3*x-1) ### para fazer a potencia ao cubo faça a potencia normal e número que você precisa\n",
    "#não modifique o código abaixo\n",
    "print(\"y =\", y)"
   ]
  },
  {
   "cell_type": "code",
   "execution_count": null,
   "metadata": {},
   "outputs": [],
   "source": []
  }
 ],
 "metadata": {
  "kernelspec": {
   "display_name": ".venv",
   "language": "python",
   "name": "python3"
  },
  "language_info": {
   "codemirror_mode": {
    "name": "ipython",
    "version": 3
   },
   "file_extension": ".py",
   "mimetype": "text/x-python",
   "name": "python",
   "nbconvert_exporter": "python",
   "pygments_lexer": "ipython3",
   "version": "3.13.2"
  }
 },
 "nbformat": 4,
 "nbformat_minor": 2
}
