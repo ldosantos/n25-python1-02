{
 "cells": [
  {
   "cell_type": "code",
   "execution_count": 47,
   "metadata": {},
   "outputs": [],
   "source": [
    "# Interação com o usuário\n",
    "### função input() ###\n",
    "# O comando input() é utilizado para capturar dados do usuário."
   ]
  },
  {
   "cell_type": "code",
   "execution_count": 48,
   "metadata": {},
   "outputs": [
    {
     "name": "stdout",
     "output_type": "stream",
     "text": [
      "Digite sua idade: \n",
      "Você tem  anos.\n"
     ]
    }
   ],
   "source": [
    "print(\"Digite sua idade: \")\n",
    "idade = input()\n",
    "print(\"Você tem \" + idade + \" anos.\")"
   ]
  },
  {
   "cell_type": "code",
   "execution_count": 49,
   "metadata": {},
   "outputs": [
    {
     "name": "stdout",
     "output_type": "stream",
     "text": [
      "Você tem  anos.\n",
      "<class 'str'>\n"
     ]
    }
   ],
   "source": [
    "idade = input(\"Digite sua idade: \") # passando a mensagem como argumento, lembrando de usar o espaço\n",
    "print(\"Você tem \" + idade + \" anos.\") # concatenando strings\n",
    "print(type(idade)) # verificando o tipo da variável idade\n",
    "# O comando input() sempre retorna uma string, mesmo que o usuário digite um número."
   ]
  },
  {
   "cell_type": "code",
   "execution_count": 50,
   "metadata": {},
   "outputs": [
    {
     "name": "stdout",
     "output_type": "stream",
     "text": [
      "<class 'str'>\n"
     ]
    }
   ],
   "source": [
    "print (type(idade)) # verificando o tipo da variável idade\n",
    "# Para converter o valor digitado para um número inteiro, utilizamos a função int()"
   ]
  },
  {
   "cell_type": "code",
   "execution_count": 51,
   "metadata": {},
   "outputs": [
    {
     "ename": "ValueError",
     "evalue": "invalid literal for int() with base 10: ''",
     "output_type": "error",
     "traceback": [
      "\u001b[31m---------------------------------------------------------------------------\u001b[39m",
      "\u001b[31mValueError\u001b[39m                                Traceback (most recent call last)",
      "\u001b[36mCell\u001b[39m\u001b[36m \u001b[39m\u001b[32mIn[51]\u001b[39m\u001b[32m, line 2\u001b[39m\n\u001b[32m      1\u001b[39m \u001b[38;5;66;03m## isso não será possível fazer\u001b[39;00m\n\u001b[32m----> \u001b[39m\u001b[32m2\u001b[39m idade = \u001b[38;5;28;43mint\u001b[39;49m\u001b[43m \u001b[49m\u001b[43m(\u001b[49m\u001b[38;5;28;43minput\u001b[39;49m\u001b[43m(\u001b[49m\u001b[33;43m\"\u001b[39;49m\u001b[33;43mDigite sua idade: \u001b[39;49m\u001b[33;43m\"\u001b[39;49m\u001b[43m)\u001b[49m\u001b[43m \u001b[49m\u001b[43m)\u001b[49m\u001b[38;5;66;03m# passando a mensagem como argumento, lembrando de usar o espaço\u001b[39;00m\n\u001b[32m      3\u001b[39m ano_nascimento = \u001b[32m2025\u001b[39m - idade \u001b[38;5;66;03m# erro to tipo, idade é uma string e não executará a operação de subtração\u001b[39;00m\n\u001b[32m      4\u001b[39m \u001b[38;5;28mprint\u001b[39m(\u001b[33m\"\u001b[39m\u001b[33mVocê nasceu em \u001b[39m\u001b[33m\"\u001b[39m + \u001b[38;5;28mstr\u001b[39m( ano_nascimento ) + \u001b[33m\"\u001b[39m\u001b[33m.\u001b[39m\u001b[33m\"\u001b[39m) \u001b[38;5;66;03m# convertendo idade para string, mas não é possível fazer isso com o operador de subtração\u001b[39;00m\n",
      "\u001b[31mValueError\u001b[39m: invalid literal for int() with base 10: ''"
     ]
    }
   ],
   "source": [
    "## isso não será possível fazer\n",
    "idade = int (input(\"Digite sua idade: \") )# passando a mensagem como argumento, lembrando de usar o espaço\n",
    "ano_nascimento = 2025 - idade # erro to tipo, idade é uma string e não executará a operação de subtração\n",
    "print(\"Você nasceu em \" + str( ano_nascimento ) + \".\") # convertendo idade para string, mas não é possível fazer isso com o operador de subtração\n",
    "\n",
    "## outra forma de fazer\n",
    "idade = int (input(\"Digite sua idade: \") )\n",
    "ano_nascimento = 2025 - idade\n",
    "print(\"Você nasceu em \", ano_nascimento,\".\",sep=\"\") ## usando argumentos do print e sep para não colocar espaço entre os argumentos \n"
   ]
  },
  {
   "cell_type": "code",
   "execution_count": null,
   "metadata": {},
   "outputs": [],
   "source": [
    "# Resumo da seção de aula:\n",
    "# O comando input() é utilizado para capturar dados do usuário, sempre retornando uma string.\n",
    "# Isso significa que, mesmo que o usuário digite um número, o valor será tratado como texto (string).\n",
    "# Para realizar operações numéricas, é necessário converter a entrada para o tipo desejado.\n",
    "# A conversão pode ser feita utilizando funções como int() para inteiros ou float() para números decimais.\n",
    "\n",
    "# Exemplo:\n",
    "idade = int(input(\"Digite sua idade: \"))  # Aqui, o valor digitado pelo usuário é convertido de string para inteiro.\n",
    "ano_nascimento = 2025 - idade  # Após a conversão, podemos realizar operações matemáticas, como a subtração.\n",
    "print(f\"Você nasceu em {ano_nascimento}.\")  # Utilizamos uma f-string para formatar a saída de forma clara e legível."
   ]
  },
  {
   "cell_type": "code",
   "execution_count": null,
   "metadata": {},
   "outputs": [
    {
     "name": "stdout",
     "output_type": "stream",
     "text": [
      "A temperatura em Fahrenheit é:  77.18 F°\n"
     ]
    }
   ],
   "source": [
    "## Desenvolver um programa para solicitar o valor de uma temperatura em grau Celsius e converter para Fahrenheit\n",
    "# A fórmula da conversão é:\n",
    "# F = C * 9/5 + 32\n",
    "\n",
    "Celsius = float(input(\"Digite a temperatura em Celsius: \")) # capturando o valor da temperatura em Celsius e convertendo para float\n",
    "Fahrenheit = Celsius * 9/5 + 32 # realizando a conversão para Fahrenheit   \n",
    "print(\"A temperatura em Fahrenheit é: \", Fahrenheit, \"F°\", sep=\" \") # imprimindo o resultado da conversão  Lembrando que o padrão do python é . no lugar de vírgula."
   ]
  },
  {
   "attachments": {
    "image.png": {
     "image/png": "[encoded data removed]"
    }
   },
   "cell_type": "markdown",
   "metadata": {},
   "source": [
    "## Laboratório 2-6-10\n",
    "\n",
    "![**image.png**](attachment:image.png)\n",
    "\n"
   ]
  },
  {
   "cell_type": "code",
   "execution_count": null,
   "metadata": {},
   "outputs": [
    {
     "name": "stdout",
     "output_type": "stream",
     "text": [
      "x =  1.0\n",
      "y =  0.6000000000000001\n"
     ]
    }
   ],
   "source": [
    "x = float(input(\"Digite o valor para x: \")) # capturando o valor de x e convertendo para float\n",
    "y = 1 / ( x + 1 / ( x + 1 / ( x + 1 / x)))  # realizando a operação com o valor de x\n",
    "print (\"x = \", x) # imprimindo o valor de x\n",
    "print (\"y = \", y) # imprimindo o valor de y\n",
    "# O comando input() é utilizado para capturar dados do usuário, sempre retornando uma string."
   ]
  },
  {
   "cell_type": "code",
   "execution_count": null,
   "metadata": {},
   "outputs": [],
   "source": [
    "numero = 3.14  # Este é um número do tipo float\n",
    "print(type(numero))  # <class 'float'>\n",
    "\n",
    "### Em Python, float é uma função ou tipo de dado que permite trabalhar com números decimais ou fracionários. \n",
    "#Função float()"
   ]
  },
  {
   "cell_type": "markdown",
   "metadata": {},
   "source": [
    "# Laboratório 2.6.11"
   ]
  },
  {
   "cell_type": "code",
   "execution_count": null,
   "metadata": {},
   "outputs": [
    {
     "name": "stdout",
     "output_type": "stream",
     "text": [
      "2:45\n"
     ]
    }
   ],
   "source": [
    "hour = int(input(\"Hora de início (horas): \"))\n",
    "mins = int(input(\"Hora de início (minutos): \"))\n",
    "dura = int(input(\"Duração do evento (minutos): \"))\n",
    "\n",
    "total_minutos = hour*60\n",
    "hora_final = total_minutos + mins + dura\n",
    "minuto_final = hora_final%60\n",
    "hora_final2= hora_final//60%24\n",
    "\n",
    "print(hora_final2, minuto_final, sep=\":\")\n"
   ]
  },
  {
   "cell_type": "code",
   "execution_count": null,
   "metadata": {},
   "outputs": [
    {
     "name": "stdout",
     "output_type": "stream",
     "text": [
      "Hora de término: 02:45\n"
     ]
    }
   ],
   "source": [
    "hour = int(input(\"Hora de início (horas): \"))\n",
    "mins = int(input(\"Hora de início (minutos): \"))\n",
    "dura = int(input(\"Duração do evento (minutos): \"))\n",
    "\n",
    "# Calculando o total de minutos desde o início do dia\n",
    "total_minutos = hour * 60 + mins + dura\n",
    "\n",
    "# Calculando a hora e os minutos finais\n",
    "hora_final = (total_minutos // 60) % 24  # Garantindo que a hora esteja no formato 0..23\n",
    "minuto_final = total_minutos % 60  # Garantindo que os minutos estejam no formato 0..59\n",
    "\n",
    "# Imprimindo o resultado\n",
    "print(f\"Hora de término: {hora_final:02}:{minuto_final:02}\")"
   ]
  },
  {
   "cell_type": "code",
   "execution_count": 46,
   "metadata": {
    "vscode": {
     "languageId": "markdown"
    }
   },
   "outputs": [
    {
     "ename": "SyntaxError",
     "evalue": "invalid syntax (3415944322.py, line 1)",
     "output_type": "error",
     "traceback": [
      "  \u001b[36mCell\u001b[39m\u001b[36m \u001b[39m\u001b[32mIn[46]\u001b[39m\u001b[32m, line 1\u001b[39m\n\u001b[31m    \u001b[39m\u001b[31mEsta seção do Jupyter Notebook aborda conceitos fundamentais de entrada de dados, manipulação de variáveis e operações matemáticas em Python. Abaixo está um resumo detalhado dos principais pontos abordados:\u001b[39m\n         ^\n\u001b[31mSyntaxError\u001b[39m\u001b[31m:\u001b[39m invalid syntax\n"
     ]
    }
   ],
   "source": [
    "Esta seção do Jupyter Notebook aborda conceitos fundamentais de entrada de dados, manipulação de variáveis e operações matemáticas em Python. Abaixo está um resumo detalhado dos principais pontos abordados:\n",
    "\n",
    "1. **Entrada de Dados com `input()`**:\n",
    "    - O comando `input()` é utilizado para capturar dados do usuário. Ele sempre retorna uma string, independentemente do que o usuário digitar.\n",
    "    - Para realizar operações matemáticas, é necessário converter a entrada para o tipo numérico desejado, como `int()` para inteiros ou `float()` para números decimais.\n",
    "\n",
    "2. **Conversão de Tipos**:\n",
    "    - Exemplos mostram como converter a entrada do usuário para tipos numéricos, como `int` e `float`, para realizar cálculos.\n",
    "    - A conversão é essencial para evitar erros de tipo ao realizar operações matemáticas.\n",
    "\n",
    "3. **Operações Matemáticas**:\n",
    "    - Foram realizadas operações como subtração para calcular o ano de nascimento com base na idade fornecida pelo usuário.\n",
    "    - Exemplos de cálculos mais complexos incluem a conversão de temperatura de Celsius para Fahrenheit e a resolução de expressões matemáticas.\n",
    "\n",
    "4. **Formatação de Saída**:\n",
    "    - A formatação de saída foi feita utilizando concatenação de strings, argumentos do `print()` e f-strings para tornar os resultados mais legíveis.\n",
    "\n",
    "5. **Cálculo de Horários**:\n",
    "    - Exemplos mostram como calcular o horário de término de um evento com base na hora de início e na duração em minutos.\n",
    "    - O uso de operações como divisão inteira (`//`) e módulo (`%`) garantiu que os resultados estivessem no formato correto (horas e minutos).\n",
    "\n",
    "6. **Variáveis Definidas**:\n",
    "    - Diversas variáveis foram definidas ao longo da seção, representando diferentes tipos de dados e valores, como:\n",
    "      - `Celsius` e `Fahrenheit` para conversão de temperatura.\n",
    "      - `idade` e `ano_nascimento` para cálculos relacionados à idade.\n",
    "      - `hour`, `mins`, `dura`, `hora_final`, e `minuto_final` para cálculos de horários.\n",
    "      - `x` e `y` para resolver expressões matemáticas.\n",
    "\n",
    "7. **Resumo Geral**:\n",
    "    - A seção reforça a importância de entender o tipo de dado retornado por `input()` e a necessidade de conversão para realizar operações matemáticas.\n",
    "    - Também destaca como manipular variáveis e realizar cálculos práticos, como conversão de unidades e manipulação de horários.\n",
    "\n",
    "Esses conceitos são fundamentais para iniciantes em Python, pois cobrem aspectos básicos de entrada, processamento e saída de dados, além de introduzir boas práticas de programação."
   ]
  }
 ],
 "metadata": {
  "kernelspec": {
   "display_name": ".venv",
   "language": "python",
   "name": "python3"
  },
  "language_info": {
   "codemirror_mode": {
    "name": "ipython",
    "version": 3
   },
   "file_extension": ".py",
   "mimetype": "text/x-python",
   "name": "python",
   "nbconvert_exporter": "python",
   "pygments_lexer": "ipython3",
   "version": "3.13.2"
  }
 },
 "nbformat": 4,
 "nbformat_minor": 2
}
