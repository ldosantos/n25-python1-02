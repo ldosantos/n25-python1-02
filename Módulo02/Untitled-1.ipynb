{
 "cells": [
  {
   "cell_type": "markdown",
   "metadata": {},
   "source": [
    "# Importar Bibliotecas Necessárias\n",
    "Importe bibliotecas como pandas, numpy e os para manipulação de arquivos."
   ]
  },
  {
   "cell_type": "code",
   "execution_count": null,
   "metadata": {},
   "outputs": [],
   "source": [
    "import pandas as pd  # Biblioteca para manipulação de dados\n",
    "import numpy as np  # Biblioteca para operações numéricas\n",
    "import os  # Biblioteca para manipulação de arquivos e diretórios"
   ]
  },
  {
   "cell_type": "markdown",
   "metadata": {},
   "source": [
    "# Carregar Arquivo de Texto\n",
    "Use a função open() ou pandas.read_csv() para carregar arquivos de texto simples."
   ]
  },
  {
   "cell_type": "code",
   "execution_count": null,
   "metadata": {},
   "outputs": [],
   "source": [
    "# Carregar Arquivo de Texto\n",
    "\n",
    "# Usando a função open() para carregar um arquivo de texto simples\n",
    "with open('exemplo.txt', 'r') as arquivo:\n",
    "    conteudo = arquivo.read()  # Lê todo o conteúdo do arquivo\n",
    "print(\"Conteúdo do arquivo usando open():\")\n",
    "print(conteudo)\n",
    "\n",
    "# Usando pandas.read_csv() para carregar um arquivo de texto simples\n",
    "# Supondo que o arquivo tenha dados separados por vírgulas\n",
    "df = pd.read_csv('exemplo.csv')  # Carrega o arquivo como um DataFrame\n",
    "print(\"\\nConteúdo do arquivo usando pandas.read_csv():\")\n",
    "print(df)"
   ]
  },
  {
   "cell_type": "markdown",
   "metadata": {},
   "source": [
    "# Carregar Arquivo CSV\n",
    "Utilize pandas.read_csv() para carregar arquivos CSV e exibir os dados em um DataFrame."
   ]
  },
  {
   "cell_type": "code",
   "execution_count": null,
   "metadata": {},
   "outputs": [],
   "source": [
    "# Carregar Arquivo CSV\n",
    "\n",
    "# Usando pandas.read_csv() para carregar um arquivo CSV\n",
    "# Certifique-se de que o arquivo 'dados.csv' esteja no mesmo diretório do notebook\n",
    "df_csv = pd.read_csv('dados.csv')  # Carrega o arquivo CSV em um DataFrame\n",
    "print(\"\\nConteúdo do arquivo CSV carregado com pandas.read_csv():\")\n",
    "print(df_csv)\n",
    "\n",
    "# Exibir as primeiras linhas do DataFrame para uma visualização rápida\n",
    "print(\"\\nVisualização inicial dos dados:\")\n",
    "print(df_csv.head())"
   ]
  },
  {
   "cell_type": "markdown",
   "metadata": {},
   "source": [
    "# Carregar Arquivo Excel\n",
    "Use pandas.read_excel() para carregar arquivos Excel e manipular as planilhas."
   ]
  },
  {
   "cell_type": "code",
   "execution_count": null,
   "metadata": {},
   "outputs": [],
   "source": [
    "# Carregar Arquivo Excel\n",
    "\n",
    "# Usando pandas.read_excel() para carregar um arquivo Excel\n",
    "# Certifique-se de que o arquivo 'dados.xlsx' esteja no mesmo diretório do notebook\n",
    "df_excel = pd.read_excel('dados.xlsx')  # Carrega o arquivo Excel em um DataFrame\n",
    "print(\"\\nConteúdo do arquivo Excel carregado com pandas.read_excel():\")\n",
    "print(df_excel)\n",
    "\n",
    "# Exibir as primeiras linhas do DataFrame para uma visualização rápida\n",
    "print(\"\\nVisualização inicial dos dados do Excel:\")\n",
    "print(df_excel.head())\n",
    "\n",
    "# Selecionar uma planilha específica (caso o arquivo tenha várias planilhas)\n",
    "df_planilha_especifica = pd.read_excel('dados.xlsx', sheet_name='Planilha1')  # Substitua 'Planilha1' pelo nome da planilha desejada\n",
    "print(\"\\nConteúdo da planilha específica carregada:\")\n",
    "print(df_planilha_especifica)"
   ]
  },
  {
   "cell_type": "markdown",
   "metadata": {},
   "source": [
    "# Tratar Erros ao Importar Arquivos\n",
    "Implemente blocos try-except para capturar e tratar erros comuns ao importar arquivos, como FileNotFoundError."
   ]
  },
  {
   "cell_type": "code",
   "execution_count": null,
   "metadata": {},
   "outputs": [],
   "source": [
    "try:\n",
    "    # Tentativa de carregar um arquivo de texto que pode não existir\n",
    "    with open('arquivo_inexistente.txt', 'r') as arquivo:\n",
    "        conteudo = arquivo.read()\n",
    "    print(\"Conteúdo do arquivo:\")\n",
    "    print(conteudo)\n",
    "except FileNotFoundError:\n",
    "    print(\"Erro: O arquivo 'arquivo_inexistente.txt' não foi encontrado.\")\n",
    "\n",
    "try:\n",
    "    # Tentativa de carregar um arquivo CSV que pode não existir\n",
    "    df_csv_inexistente = pd.read_csv('arquivo_inexistente.csv')\n",
    "    print(\"\\nConteúdo do arquivo CSV:\")\n",
    "    print(df_csv_inexistente)\n",
    "except FileNotFoundError:\n",
    "    print(\"Erro: O arquivo 'arquivo_inexistente.csv' não foi encontrado.\")\n",
    "\n",
    "try:\n",
    "    # Tentativa de carregar um arquivo Excel que pode não existir\n",
    "    df_excel_inexistente = pd.read_excel('arquivo_inexistente.xlsx')\n",
    "    print(\"\\nConteúdo do arquivo Excel:\")\n",
    "    print(df_excel_inexistente)\n",
    "except FileNotFoundError:\n",
    "    print(\"Erro: O arquivo 'arquivo_inexistente.xlsx' não foi encontrado.\")"
   ]
  }
 ],
 "metadata": {
  "language_info": {
   "name": "python"
  }
 },
 "nbformat": 4,
 "nbformat_minor": 2
}
