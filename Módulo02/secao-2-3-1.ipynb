{
 "cells": [
  {
   "cell_type": "markdown",
   "metadata": {},
   "source": [
    "# Operadores em Python\n",
    "### Python como Calculadora"
   ]
  },
  {
   "cell_type": "code",
   "execution_count": 12,
   "metadata": {},
   "outputs": [
    {
     "name": "stdout",
     "output_type": "stream",
     "text": [
      "4\n"
     ]
    }
   ],
   "source": [
    "print (2+2)"
   ]
  },
  {
   "cell_type": "markdown",
   "metadata": {},
   "source": [
    "### Operadores básicos\n",
    "#### Operador de exponenciação (**)"
   ]
  },
  {
   "cell_type": "code",
   "execution_count": 13,
   "metadata": {},
   "outputs": [
    {
     "name": "stdout",
     "output_type": "stream",
     "text": [
      "4\n",
      "4.0\n",
      "4.0\n",
      "4.0\n"
     ]
    }
   ],
   "source": [
    "print (2**2) ##2 elevado ao quadrado no python\n",
    "print (2.0**2)\n",
    "print (2**2.0)\n",
    "print (2.0 ** 2.0) # outras formas de fazer a exponenciação   ##se fizer a exponenciação por fração você deve fazer a raíz "
   ]
  },
  {
   "cell_type": "markdown",
   "metadata": {},
   "source": [
    "#### Operador de Multiplicação ( * )"
   ]
  },
  {
   "cell_type": "code",
   "execution_count": 14,
   "metadata": {},
   "outputs": [
    {
     "name": "stdout",
     "output_type": "stream",
     "text": [
      "4\n",
      "4.0\n",
      "4.0\n",
      "4.0\n"
     ]
    }
   ],
   "source": [
    "print (2*2)\n",
    "print (2.0*2)\n",
    "print (2 * 2.0)\n",
    "print (2.0*2.0)"
   ]
  },
  {
   "cell_type": "markdown",
   "metadata": {},
   "source": [
    "#### Operador de Divisão ( / )"
   ]
  },
  {
   "cell_type": "code",
   "execution_count": 17,
   "metadata": {},
   "outputs": [
    {
     "name": "stdout",
     "output_type": "stream",
     "text": [
      "1.0\n",
      "1.0\n",
      "1.0\n",
      "1.0\n",
      "0.6666666666666666\n"
     ]
    }
   ],
   "source": [
    "print (2/2)\n",
    "print (2.0/2)\n",
    "print (2 / 2.0)\n",
    "print (2.0/2.0) ###sempre na divisão ele irá dará um valor fracionado\n",
    "print (2/3)"
   ]
  },
  {
   "cell_type": "markdown",
   "metadata": {},
   "source": [
    "#### Divisão inteira (com arredondamento    // )\n",
    "Faz arredondamento para baixo!!!!!"
   ]
  },
  {
   "cell_type": "code",
   "execution_count": null,
   "metadata": {},
   "outputs": [
    {
     "name": "stdout",
     "output_type": "stream",
     "text": [
      "10.0\n",
      "10313.8\n",
      "20\n",
      "18.0\n",
      "1.0\n",
      "2\n",
      "-2\n"
     ]
    }
   ],
   "source": [
    "print (51.569 //5)\n",
    "print (51569/5) ##note a diferença perdemos 313,8 nesse arredondamento\n",
    "print (123 //6)\n",
    "print (111 // 6.0)\n",
    "print (8.0//6.0) ###sempre na divisão ele irá dará um valor arredondado para baixo\n",
    "print (7//3)\n",
    "\n",
    "#negativos\n",
    "\n",
    "print (-3 // 2) ##tomar muito cuidado com os arredondamentos (não utilizar essa divisão de arredondamento)"
   ]
  },
  {
   "cell_type": "markdown",
   "metadata": {},
   "source": [
    "#### Operador de Resto - Módulo ( % )"
   ]
  },
  {
   "cell_type": "code",
   "execution_count": 34,
   "metadata": {},
   "outputs": [
    {
     "name": "stdout",
     "output_type": "stream",
     "text": [
      "1\n",
      "1.0\n",
      "1.0\n",
      "1.0\n",
      "3.0\n",
      "9\n",
      "0.5\n"
     ]
    }
   ],
   "source": [
    "print (3%2) ## aqui você lê o resto de 3 pra 2 (ou seja 1)\n",
    "print (3%2.0)\n",
    "print (3.0%2)\n",
    "print (3.0%2.0)\n",
    "print (12%4.5)  ### o percentual é o resto, o quanto falta e tudo mais.\n",
    "print (9%10) ## 9 resto de dez (a divisão não existe) então é 9 (o que falta de 9 para chegar em 10)\n",
    "print (14%4.5) \n",
    "### maioria dos digitos verificadores é o resto de algum cálculo."
   ]
  },
  {
   "cell_type": "markdown",
   "metadata": {},
   "source": [
    "#### Cuidados com resto e divisões\n",
    "Qualquer um deles não pode ter como divisor o zero (0)\n",
    "O resultado é erro!!\n",
    "\n",
    "### Operador de soma e subtração"
   ]
  },
  {
   "cell_type": "code",
   "execution_count": 35,
   "metadata": {},
   "outputs": [
    {
     "name": "stdout",
     "output_type": "stream",
     "text": [
      "4\n",
      "0\n",
      "4.0\n",
      "4.0\n",
      "0.0\n"
     ]
    }
   ],
   "source": [
    "print (2 + 2 )\n",
    "print (2 - 2 )\n",
    "print (2 + 2.0 )\n",
    "print (2.0 + 2 )\n",
    "print (-2.0 + 2.0 ) ##usando operador unário"
   ]
  },
  {
   "cell_type": "markdown",
   "metadata": {},
   "source": [
    "#### Operadores e Prioridades"
   ]
  },
  {
   "cell_type": "code",
   "execution_count": null,
   "metadata": {},
   "outputs": [
    {
     "name": "stdout",
     "output_type": "stream",
     "text": [
      "2.0\n",
      "48\n",
      "24.0\n",
      "12.0\n",
      "0.0\n",
      "2.0\n",
      "256\n"
     ]
    }
   ],
   "source": [
    "print (2+3*4**2/2//2%3)\n",
    "print (3*16) ; print (48/2); print (24.0//2); print(12.0%3); print(0.0+2)    ###parenteses sempre são prioridades\n",
    "print (2**2**3) ## 2 elevado elevado a terceira"
   ]
  },
  {
   "cell_type": "markdown",
   "metadata": {},
   "source": [
    "#### Lista de prioridades de operadores\n",
    "\n",
    "| Prioridade | Operador | Descrição |\n",
    "| :- | :-: | :-:|\n",
    "| 1 | ** | Exponenciação |\n",
    "| 2 | -, + | Operador Unário |\n",
    "| 3 | *, / , // % | Multiplicação, Divisão, e resto |\n",
    "| 4 | -, + | Soma e Subtração |\n",
    "\n",
    "###Criamos uma tabela simples\n",
    "####para alinhar use os : do lado das linhas"
   ]
  },
  {
   "cell_type": "code",
   "execution_count": 47,
   "metadata": {},
   "outputs": [
    {
     "name": "stdout",
     "output_type": "stream",
     "text": [
      "-9\n",
      "9\n"
     ]
    }
   ],
   "source": [
    "print (-3**2) ## note o valor diferente do normal que seria nove - com - é +\n",
    "print ((-3)**2) ## o resultado correto SEMPRE USAR O PARENTESES"
   ]
  },
  {
   "cell_type": "code",
   "execution_count": null,
   "metadata": {},
   "outputs": [],
   "source": []
  }
 ],
 "metadata": {
  "kernelspec": {
   "display_name": ".venv",
   "language": "python",
   "name": "python3"
  },
  "language_info": {
   "codemirror_mode": {
    "name": "ipython",
    "version": 3
   },
   "file_extension": ".py",
   "mimetype": "text/x-python",
   "name": "python",
   "nbconvert_exporter": "python",
   "pygments_lexer": "ipython3",
   "version": "3.13.2"
  }
 },
 "nbformat": 4,
 "nbformat_minor": 2
}
