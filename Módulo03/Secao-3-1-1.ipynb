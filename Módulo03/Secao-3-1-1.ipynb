{
 "cells": [
  {
   "cell_type": "markdown",
   "metadata": {},
   "source": [
    "# Tomada de decisão\n",
    "## Operações relacionais\n",
    "### Operador de Igualdade (==) ##detalhe para o duplo igual"
   ]
  },
  {
   "cell_type": "code",
   "execution_count": 2,
   "metadata": {},
   "outputs": [
    {
     "name": "stdout",
     "output_type": "stream",
     "text": [
      "False\n",
      "False\n",
      "True\n",
      "True\n"
     ]
    }
   ],
   "source": [
    "print(1 ==2) ## o espaço entre os operadores não importa e o resultado é diferente\n",
    "print (1 ==2 ) ## o espaço entre os operadores não importa e o resultado é diferente\n",
    "print (1 == 1.0) ## a quantidade é a mesma, mas o tipo é diferente\n",
    "print ( 2 == 0b10 ) ## o número 2 é igual ao número binário 10\n"
   ]
  },
  {
   "cell_type": "markdown",
   "metadata": {},
   "source": [
    "### Operador de Desigualdade ( != ) "
   ]
  },
  {
   "cell_type": "code",
   "execution_count": 4,
   "metadata": {},
   "outputs": [
    {
     "name": "stdout",
     "output_type": "stream",
     "text": [
      "True\n",
      "False\n",
      "False\n",
      "False\n"
     ]
    }
   ],
   "source": [
    "print (1 != 2) ## o espaço entre os operadores não importa e o resultado é verdadeiro\n",
    "print (1 != 1 ) ## o espaço entre os operadores não importa e o resultado é falso\n",
    "print (1 != 1.0) ## a quantidade é a mesma, mas o tipo é diferente e o resultado é falso\n",
    "print ( 2 != 0b10 ) ## o número 2 é igual ao número binário 10 e o resultado é falso"
   ]
  },
  {
   "cell_type": "markdown",
   "metadata": {},
   "source": [
    "### Operador maior que (>) e maior igual a ( >= )"
   ]
  },
  {
   "cell_type": "code",
   "execution_count": null,
   "metadata": {},
   "outputs": [
    {
     "name": "stdout",
     "output_type": "stream",
     "text": [
      "False\n",
      "True\n",
      "True\n",
      "True\n"
     ]
    }
   ],
   "source": [
    "print ( 1 > 2 ) ## 1 é maior que 2, resultado falso\n",
    "print ( 2 > 1) ## 2 é maior que 1, resultado verdadeiro \n",
    "print ( 2 >= 1) ## 2 é maior ou igual a 1, resultado verdadeiro\n",
    "print ( 2 >=0b10) ## 2 é maior ou igual a 2, resultado verdadeiro"
   ]
  },
  {
   "cell_type": "markdown",
   "metadata": {},
   "source": [
    "### Operador menor que ( < ) e menor igual a ( <= )"
   ]
  },
  {
   "cell_type": "code",
   "execution_count": null,
   "metadata": {},
   "outputs": [
    {
     "name": "stdout",
     "output_type": "stream",
     "text": [
      "True\n",
      "False\n",
      "False\n",
      "True\n"
     ]
    }
   ],
   "source": [
    "print ( 1 < 2 ) ## 1 é menor que 2, resultado verdadeiro\n",
    "print ( 2 < 1) ## 2 é menor que 1, resultado falso \n",
    "print ( 2 <= 1) ## 2 é menor ou igual a 1, resultado falso\n",
    "print ( 2 <=0b10) ## 2 é menor ou igual a 2, resultado verdadeiro"
   ]
  },
  {
   "cell_type": "markdown",
   "metadata": {},
   "source": [
    "### Atualizando a lista de prioridades de operadores\n",
    "|Seq |Operador|Descrição|\n",
    "|:-:|:-:|:-|\n",
    "| 1 | **| Exponenciação|\n",
    "| 2 | +,-| Unários Sinal|\n",
    "| 3 | *,/,//,%| Multiplicação|\n",
    "| 4 | +,-| Soma e Subtração|\n",
    "| 5 | >,>=,<,<=| Maior, maior igual, menor, menor igual|\n",
    "| 6 | ==, !=| Igualdade e Diferença:"
   ]
  },
  {
   "cell_type": "markdown",
   "metadata": {},
   "source": [
    "### Operador IF ( SE )\n",
    "\n",
    "Sintaxe | Fórmula\n",
    "|-|-|\n",
    "        |        if condicao_verdade \n",
    "        |                   comando_a_ser_ecutado()\n",
    "        |                   comando_a_ser_executado2\n",
    "\n",
    "Muito imporante o alinhamento da sintaxe"
   ]
  },
  {
   "cell_type": "code",
   "execution_count": 10,
   "metadata": {},
   "outputs": [
    {
     "name": "stdout",
     "output_type": "stream",
     "text": [
      "Você é maior de idade\n",
      "Você pode dirigir, se habilitado\n",
      "fim do programa e obrigado por participar\n"
     ]
    }
   ],
   "source": [
    "idade = int(input(\"Digite sua idade: \"))\n",
    "if idade >= 18:\n",
    "    print(\"Você é maior de idade\")\n",
    "    print(\"Você pode dirigir, se habilitado\")\n",
    "print(\"fim do programa e obrigado por participar\") ## o programa continua mesmo que a condição não seja atendida"
   ]
  },
  {
   "cell_type": "markdown",
   "metadata": {},
   "source": [
    "## Instrução ELSE"
   ]
  },
  {
   "cell_type": "code",
   "execution_count": 12,
   "metadata": {},
   "outputs": [
    {
     "name": "stdout",
     "output_type": "stream",
     "text": [
      "Você é menor de idade\n",
      "Você não pode dirigir\n",
      "fim do programa e obrigado por participar\n"
     ]
    }
   ],
   "source": [
    "idade = int(input(\"Digite sua idade: \"))\n",
    "if idade >= 18:\n",
    "    print(\"Você é maior de idade\")\n",
    "    print(\"Você pode dirigir, se habilitado\")\n",
    "else:\n",
    "    print(\"Você é menor de idade\") \n",
    "    print(\"Você não pode dirigir\")\n",
    "print(\"fim do programa e obrigado por participar\") ## o programa continua mesmo que a condição não seja atendida\n",
    "\n"
   ]
  },
  {
   "cell_type": "code",
   "execution_count": 13,
   "metadata": {},
   "outputs": [
    {
     "name": "stdout",
     "output_type": "stream",
     "text": [
      "Você é maior de idade\n",
      "Você pode dirigir, se habilitado\n",
      "fim do programa e obrigado por participar\n"
     ]
    }
   ],
   "source": [
    "idade = int(input(\"Digite sua idade: \"))\n",
    "if idade >= 18:\n",
    "    print(\"Você é maior de idade\")\n",
    "    print(\"Você pode dirigir, se habilitado\")\n",
    "else:\n",
    "    print(\"Você é menor de idade\") \n",
    "    print(\"Você não pode dirigir\")\n",
    "print(\"fim do programa e obrigado por participar\") ## o programa continua mesmo que a condição não seja atendida"
   ]
  },
  {
   "cell_type": "markdown",
   "metadata": {},
   "source": [
    "### IF encadeado (vários)"
   ]
  },
  {
   "cell_type": "code",
   "execution_count": 16,
   "metadata": {},
   "outputs": [
    {
     "name": "stdout",
     "output_type": "stream",
     "text": [
      "Você é maior de idade\n",
      "Você pode dirigir, se habilitado\n",
      "Você deve fazer exames médicos a cada dois anos\n",
      "fim do programa e obrigado por participar\n"
     ]
    }
   ],
   "source": [
    "idade = int(input(\"Digite sua idade: \"))\n",
    "if idade >= 18:\n",
    "    print(\"Você é maior de idade\")\n",
    "    print(\"Você pode dirigir, se habilitado\")\n",
    "    if idade >= 70:\n",
    "            print(\"Você deve fazer exames médicos anuais\")\n",
    "    else:\n",
    "        if idade >= 65:\n",
    "            print(\"Você deve fazer exames médicos a cada dois anos\")\n",
    "\n",
    "else:\n",
    "    print(\"Você é menor de idade\") \n",
    "    print(\"Você não pode dirigir\")\n",
    "print(\"fim do programa e obrigado por participar\")"
   ]
  },
  {
   "cell_type": "code",
   "execution_count": 17,
   "metadata": {},
   "outputs": [
    {
     "name": "stdout",
     "output_type": "stream",
     "text": [
      "Você é maior de idade\n",
      "Você pode dirigir, se habilitado\n",
      "Você deve fazer exames médicos anuais\n",
      "fim do programa e obrigado por participar\n"
     ]
    }
   ],
   "source": [
    "idade = int(input(\"Digite sua idade: \"))\n",
    "if idade >= 18:\n",
    "    print(\"Você é maior de idade\")\n",
    "    print(\"Você pode dirigir, se habilitado\")\n",
    "    if idade >= 70:\n",
    "            print(\"Você deve fazer exames médicos anuais\")\n",
    "    else:\n",
    "        if idade >= 65:\n",
    "            print(\"Você deve fazer exames médicos a cada dois anos\")\n",
    "\n",
    "else:\n",
    "    print(\"Você é menor de idade\") \n",
    "    print(\"Você não pode dirigir\")\n",
    "print(\"fim do programa e obrigado por participar\")"
   ]
  },
  {
   "cell_type": "code",
   "execution_count": null,
   "metadata": {},
   "outputs": [
    {
     "name": "stdout",
     "output_type": "stream",
     "text": [
      "Você é maior de idade\n",
      "Você pode dirigir, se habilitado\n",
      "fim do programa e obrigado por participar\n"
     ]
    }
   ],
   "source": [
    "idade = int(input(\"Digite sua idade: \"))\n",
    "if idade >= 18:\n",
    "    print(\"Você é maior de idade\")\n",
    "    print(\"Você pode dirigir, se habilitado\")    #identação é imporante para o python\n",
    "    if idade >= 70:\n",
    "            print(\"Você deve fazer exames médicos anuais\")\n",
    "    else:\n",
    "        if idade >= 65:\n",
    "            print(\"Você deve fazer exames médicos a cada dois anos\")\n",
    "\n",
    "else:\n",
    "    print(\"Você é menor de idade\") \n",
    "    print(\"Você não pode dirigir\")\n",
    "print(\"fim do programa e obrigado por participar\")"
   ]
  },
  {
   "cell_type": "markdown",
   "metadata": {},
   "source": [
    "## Instrução ( elif )"
   ]
  },
  {
   "cell_type": "code",
   "execution_count": 22,
   "metadata": {},
   "outputs": [
    {
     "name": "stdout",
     "output_type": "stream",
     "text": [
      "você é menor de idade\n"
     ]
    }
   ],
   "source": [
    "idade = int(input(\"Digite sua idade: \"))\n",
    "\n",
    "if idade >=70:\n",
    "    print(\"Você é maior de idade\")\n",
    "    print(\"Você pode dirigir, se habilitado\")\n",
    "    print(\"Você deve fazer exames médicos anuais\")    ### elfi sempre estrá identado ao IF, nunca o ELIF antes do IF\n",
    "elif idade >=65:\n",
    "    print(\"Você é maior de idade\")\n",
    "    print(\"Você pode dirigir, se habilitado\")\n",
    "    print(\"Você deve fazer exames médicos a cada dois anos\")\n",
    "elif idade >= 18:\n",
    "    print(\"Você é maior de idade\")\n",
    "    print(\"Você pode dirigir, se habilitado\")\n",
    "else:\n",
    "    print(\"você é menor de idade\") ## o programa continua mesmo que a condição não seja atendida"
   ]
  },
  {
   "cell_type": "code",
   "execution_count": 23,
   "metadata": {},
   "outputs": [
    {
     "name": "stdout",
     "output_type": "stream",
     "text": [
      "O maior número é: 2\n"
     ]
    }
   ],
   "source": [
    "# Obtendo o maior número entre dois números\n",
    "\n",
    "num1 = int(input(\"Digite o primeiro número: \"))\n",
    "num2 = int(input(\"Digite o segundo número: \"))\n",
    "maior = num1\n",
    "if num2 > maior:\n",
    "    maior = num2\n",
    "print(\"O maior número é:\", maior)"
   ]
  },
  {
   "cell_type": "code",
   "execution_count": 24,
   "metadata": {},
   "outputs": [
    {
     "name": "stdout",
     "output_type": "stream",
     "text": [
      "O maior número é: 6\n"
     ]
    }
   ],
   "source": [
    "# Obtendo o maior número entre 3 números\n",
    "\n",
    "num1 = int(input(\"Digite o primeiro número: \"))\n",
    "num2 = int(input(\"Digite o segundo número: \"))\n",
    "num3 = int(input(\"Digite o terceiro número: \"))\n",
    "maior = num1\n",
    "if num2 > maior:\n",
    "    maior = num2\n",
    "if num3 > maior:\n",
    "    maior = num3   ### se o numero 2 for maior que o numero 1 o maior = numero 2, se o numero 3 for maior que o numero 2 o maior = numero 3\n",
    "print(\"O maior número é:\", maior)"
   ]
  },
  {
   "cell_type": "code",
   "execution_count": null,
   "metadata": {
    "vscode": {
     "languageId": "markdown"
    }
   },
   "outputs": [],
   "source": [
    "## Explicação sobre o IF\n",
    "\n",
    "O comando `if` é uma estrutura condicional usada para executar um bloco de código apenas se uma determinada condição for verdadeira. Ele é amplamente utilizado em Python para implementar lógica de decisão.\n",
    "\n",
    "### Sintaxe Básica\n"
   ]
  }
 ],
 "metadata": {
  "kernelspec": {
   "display_name": ".venv",
   "language": "python",
   "name": "python3"
  },
  "language_info": {
   "codemirror_mode": {
    "name": "ipython",
    "version": 3
   },
   "file_extension": ".py",
   "mimetype": "text/x-python",
   "name": "python",
   "nbconvert_exporter": "python",
   "pygments_lexer": "ipython3",
   "version": "3.13.2"
  }
 },
 "nbformat": 4,
 "nbformat_minor": 2
}
