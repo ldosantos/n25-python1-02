{
 "cells": [
  {
   "cell_type": "markdown",
   "metadata": {},
   "source": [
    "# Tomada de decisão\n",
    "## Operações relacionais\n",
    "### Operador de Igualdade (==) ##detalhe para o duplo igual"
   ]
  },
  {
   "cell_type": "code",
   "execution_count": 2,
   "metadata": {},
   "outputs": [
    {
     "name": "stdout",
     "output_type": "stream",
     "text": [
      "False\n",
      "False\n",
      "True\n",
      "True\n"
     ]
    }
   ],
   "source": [
    "print(1 ==2) ## o espaço entre os operadores não importa e o resultado é diferente\n",
    "print (1 ==2 ) ## o espaço entre os operadores não importa e o resultado é diferente\n",
    "print (1 == 1.0) ## a quantidade é a mesma, mas o tipo é diferente\n",
    "print ( 2 == 0b10 ) ## o número 2 é igual ao número binário 10\n"
   ]
  },
  {
   "cell_type": "markdown",
   "metadata": {},
   "source": [
    "### Operador de Desigualdade ( != ) "
   ]
  },
  {
   "cell_type": "code",
   "execution_count": 4,
   "metadata": {},
   "outputs": [
    {
     "name": "stdout",
     "output_type": "stream",
     "text": [
      "True\n",
      "False\n",
      "False\n",
      "False\n"
     ]
    }
   ],
   "source": [
    "print (1 != 2) ## o espaço entre os operadores não importa e o resultado é verdadeiro\n",
    "print (1 != 1 ) ## o espaço entre os operadores não importa e o resultado é falso\n",
    "print (1 != 1.0) ## a quantidade é a mesma, mas o tipo é diferente e o resultado é falso\n",
    "print ( 2 != 0b10 ) ## o número 2 é igual ao número binário 10 e o resultado é falso"
   ]
  },
  {
   "cell_type": "markdown",
   "metadata": {},
   "source": [
    "### Operador maior que (>) e maior igual a ( >= )"
   ]
  },
  {
   "cell_type": "code",
   "execution_count": null,
   "metadata": {},
   "outputs": [
    {
     "name": "stdout",
     "output_type": "stream",
     "text": [
      "False\n",
      "True\n",
      "True\n",
      "True\n"
     ]
    }
   ],
   "source": [
    "print ( 1 > 2 ) ## 1 é maior que 2, resultado falso\n",
    "print ( 2 > 1) ## 2 é maior que 1, resultado verdadeiro \n",
    "print ( 2 >= 1) ## 2 é maior ou igual a 1, resultado verdadeiro\n",
    "print ( 2 >=0b10) ## 2 é maior ou igual a 2, resultado verdadeiro"
   ]
  },
  {
   "cell_type": "markdown",
   "metadata": {},
   "source": [
    "### Operador menor que ( < ) e menor igual a ( <= )"
   ]
  },
  {
   "cell_type": "code",
   "execution_count": null,
   "metadata": {},
   "outputs": [
    {
     "name": "stdout",
     "output_type": "stream",
     "text": [
      "True\n",
      "False\n",
      "False\n",
      "True\n"
     ]
    }
   ],
   "source": [
    "print ( 1 < 2 ) ## 1 é menor que 2, resultado verdadeiro\n",
    "print ( 2 < 1) ## 2 é menor que 1, resultado falso \n",
    "print ( 2 <= 1) ## 2 é menor ou igual a 1, resultado falso\n",
    "print ( 2 <=0b10) ## 2 é menor ou igual a 2, resultado verdadeiro"
   ]
  },
  {
   "cell_type": "markdown",
   "metadata": {},
   "source": [
    "### Atualizando a lista de prioridades de operadores\n",
    "|Seq |Operador|Descrição|\n",
    "|:-:|:-:|:-|\n",
    "| 1 | **| Exponenciação|\n",
    "| 2 | +,-| Unários Sinal|\n",
    "| 3 | *,/,//,%| Multiplicação|\n",
    "| 4 | +,-| Soma e Subtração|\n",
    "| 5 | >,>=,<,<=| Maior, maior igual, menor, menor igual|\n",
    "| 6 | ==, !=| Igualdade e Diferença:"
   ]
  },
  {
   "cell_type": "markdown",
   "metadata": {},
   "source": [
    "### Operador IF ( SE )\n",
    "\n",
    "Sintaxe | Fórmula\n",
    "|-|-|\n",
    "        |        if condicao_verdade \n",
    "        |                   comando_a_ser_ecutado()\n",
    "        |                   comando_a_ser_executado2\n",
    "\n",
    "Muito imporante o alinhamento da sintaxe"
   ]
  },
  {
   "cell_type": "code",
   "execution_count": 10,
   "metadata": {},
   "outputs": [
    {
     "name": "stdout",
     "output_type": "stream",
     "text": [
      "Você é maior de idade\n",
      "Você pode dirigir, se habilitado\n",
      "fim do programa e obrigado por participar\n"
     ]
    }
   ],
   "source": [
    "idade = int(input(\"Digite sua idade: \"))\n",
    "if idade >= 18:\n",
    "    print(\"Você é maior de idade\")\n",
    "    print(\"Você pode dirigir, se habilitado\")\n",
    "print(\"fim do programa e obrigado por participar\") ## o programa continua mesmo que a condição não seja atendida"
   ]
  },
  {
   "cell_type": "markdown",
   "metadata": {},
   "source": [
    "## Instrução ELSE"
   ]
  },
  {
   "cell_type": "code",
   "execution_count": 12,
   "metadata": {},
   "outputs": [
    {
     "name": "stdout",
     "output_type": "stream",
     "text": [
      "Você é menor de idade\n",
      "Você não pode dirigir\n",
      "fim do programa e obrigado por participar\n"
     ]
    }
   ],
   "source": [
    "idade = int(input(\"Digite sua idade: \"))\n",
    "if idade >= 18:\n",
    "    print(\"Você é maior de idade\")\n",
    "    print(\"Você pode dirigir, se habilitado\")\n",
    "else:\n",
    "    print(\"Você é menor de idade\") \n",
    "    print(\"Você não pode dirigir\")\n",
    "print(\"fim do programa e obrigado por participar\") ## o programa continua mesmo que a condição não seja atendida\n",
    "\n"
   ]
  },
  {
   "cell_type": "code",
   "execution_count": 13,
   "metadata": {},
   "outputs": [
    {
     "name": "stdout",
     "output_type": "stream",
     "text": [
      "Você é maior de idade\n",
      "Você pode dirigir, se habilitado\n",
      "fim do programa e obrigado por participar\n"
     ]
    }
   ],
   "source": [
    "idade = int(input(\"Digite sua idade: \"))\n",
    "if idade >= 18:\n",
    "    print(\"Você é maior de idade\")\n",
    "    print(\"Você pode dirigir, se habilitado\")\n",
    "else:\n",
    "    print(\"Você é menor de idade\") \n",
    "    print(\"Você não pode dirigir\")\n",
    "print(\"fim do programa e obrigado por participar\") ## o programa continua mesmo que a condição não seja atendida"
   ]
  },
  {
   "cell_type": "markdown",
   "metadata": {},
   "source": [
    "### IF encadeado (vários)"
   ]
  },
  {
   "cell_type": "code",
   "execution_count": 16,
   "metadata": {},
   "outputs": [
    {
     "name": "stdout",
     "output_type": "stream",
     "text": [
      "Você é maior de idade\n",
      "Você pode dirigir, se habilitado\n",
      "Você deve fazer exames médicos a cada dois anos\n",
      "fim do programa e obrigado por participar\n"
     ]
    }
   ],
   "source": [
    "idade = int(input(\"Digite sua idade: \"))\n",
    "if idade >= 18:\n",
    "    print(\"Você é maior de idade\")\n",
    "    print(\"Você pode dirigir, se habilitado\")\n",
    "    if idade >= 70:\n",
    "            print(\"Você deve fazer exames médicos anuais\")\n",
    "    else:\n",
    "        if idade >= 65:\n",
    "            print(\"Você deve fazer exames médicos a cada dois anos\")\n",
    "\n",
    "else:\n",
    "    print(\"Você é menor de idade\") \n",
    "    print(\"Você não pode dirigir\")\n",
    "print(\"fim do programa e obrigado por participar\")"
   ]
  },
  {
   "cell_type": "code",
   "execution_count": 17,
   "metadata": {},
   "outputs": [
    {
     "name": "stdout",
     "output_type": "stream",
     "text": [
      "Você é maior de idade\n",
      "Você pode dirigir, se habilitado\n",
      "Você deve fazer exames médicos anuais\n",
      "fim do programa e obrigado por participar\n"
     ]
    }
   ],
   "source": [
    "idade = int(input(\"Digite sua idade: \"))\n",
    "if idade >= 18:\n",
    "    print(\"Você é maior de idade\")\n",
    "    print(\"Você pode dirigir, se habilitado\")\n",
    "    if idade >= 70:\n",
    "            print(\"Você deve fazer exames médicos anuais\")\n",
    "    else:\n",
    "        if idade >= 65:\n",
    "            print(\"Você deve fazer exames médicos a cada dois anos\")\n",
    "\n",
    "else:\n",
    "    print(\"Você é menor de idade\") \n",
    "    print(\"Você não pode dirigir\")\n",
    "print(\"fim do programa e obrigado por participar\")"
   ]
  },
  {
   "cell_type": "code",
   "execution_count": null,
   "metadata": {},
   "outputs": [
    {
     "name": "stdout",
     "output_type": "stream",
     "text": [
      "Você é maior de idade\n",
      "Você pode dirigir, se habilitado\n",
      "fim do programa e obrigado por participar\n"
     ]
    }
   ],
   "source": [
    "idade = int(input(\"Digite sua idade: \"))\n",
    "if idade >= 18:\n",
    "    print(\"Você é maior de idade\")\n",
    "    print(\"Você pode dirigir, se habilitado\")    #identação é imporante para o python\n",
    "    if idade >= 70:\n",
    "            print(\"Você deve fazer exames médicos anuais\")\n",
    "    else:\n",
    "        if idade >= 65:\n",
    "            print(\"Você deve fazer exames médicos a cada dois anos\")\n",
    "\n",
    "else:\n",
    "    print(\"Você é menor de idade\") \n",
    "    print(\"Você não pode dirigir\")\n",
    "print(\"fim do programa e obrigado por participar\")"
   ]
  },
  {
   "cell_type": "markdown",
   "metadata": {},
   "source": [
    "## Instrução ( elif )"
   ]
  },
  {
   "cell_type": "code",
   "execution_count": 22,
   "metadata": {},
   "outputs": [
    {
     "name": "stdout",
     "output_type": "stream",
     "text": [
      "você é menor de idade\n"
     ]
    }
   ],
   "source": [
    "idade = int(input(\"Digite sua idade: \"))\n",
    "\n",
    "if idade >=70:\n",
    "    print(\"Você é maior de idade\")\n",
    "    print(\"Você pode dirigir, se habilitado\")\n",
    "    print(\"Você deve fazer exames médicos anuais\")    ### elfi sempre estrá identado ao IF, nunca o ELIF antes do IF\n",
    "elif idade >=65:\n",
    "    print(\"Você é maior de idade\")\n",
    "    print(\"Você pode dirigir, se habilitado\")\n",
    "    print(\"Você deve fazer exames médicos a cada dois anos\")\n",
    "elif idade >= 18:\n",
    "    print(\"Você é maior de idade\")\n",
    "    print(\"Você pode dirigir, se habilitado\")\n",
    "else:\n",
    "    print(\"você é menor de idade\") ## o programa continua mesmo que a condição não seja atendida"
   ]
  },
  {
   "cell_type": "code",
   "execution_count": 23,
   "metadata": {},
   "outputs": [
    {
     "name": "stdout",
     "output_type": "stream",
     "text": [
      "O maior número é: 2\n"
     ]
    }
   ],
   "source": [
    "# Obtendo o maior número entre dois números\n",
    "\n",
    "num1 = int(input(\"Digite o primeiro número: \"))\n",
    "num2 = int(input(\"Digite o segundo número: \"))\n",
    "maior = num1\n",
    "if num2 > maior:\n",
    "    maior = num2\n",
    "print(\"O maior número é:\", maior)"
   ]
  },
  {
   "cell_type": "code",
   "execution_count": 24,
   "metadata": {},
   "outputs": [
    {
     "name": "stdout",
     "output_type": "stream",
     "text": [
      "O maior número é: 6\n"
     ]
    }
   ],
   "source": [
    "# Obtendo o maior número entre 3 números\n",
    "\n",
    "num1 = int(input(\"Digite o primeiro número: \"))\n",
    "num2 = int(input(\"Digite o segundo número: \"))\n",
    "num3 = int(input(\"Digite o terceiro número: \"))\n",
    "maior = num1\n",
    "if num2 > maior:\n",
    "    maior = num2\n",
    "if num3 > maior:\n",
    "    maior = num3   ### se o numero 2 for maior que o numero 1 o maior = numero 2, se o numero 3 for maior que o numero 2 o maior = numero 3\n",
    "print(\"O maior número é:\", maior)"
   ]
  },
  {
   "cell_type": "code",
   "execution_count": 2,
   "metadata": {
    "vscode": {
     "languageId": "markdown"
    }
   },
   "outputs": [],
   "source": [
    "## Explicação sobre o IF\n",
    "\n",
    "## O comando `if` é uma estrutura condicional usada para executar um bloco de código apenas se uma determinada condição for verdadeira. Ele é amplamente utilizado em Python para implementar lógica de decisão.\n",
    "\n",
    "### Sintaxe Básica\n"
   ]
  },
  {
   "cell_type": "code",
   "execution_count": null,
   "metadata": {},
   "outputs": [
    {
     "name": "stdout",
     "output_type": "stream",
     "text": [
      "a é maior que ou igual a Luiz Donizeti dos Santos Junior\n"
     ]
    }
   ],
   "source": [
    "## Uso do IF com strings\n",
    "\n",
    "nome = input(\"Digite seu nome: \")\n",
    "nome2 = input(\"Digite seu nome: \")\n",
    "if nome > nome2:\n",
    "    print(nome, \"é maior que\", nome2)\n",
    "else:\n",
    "    print(nome2, \"é maior que ou igual a\", nome)\n",
    "\n",
    "## a comparação de texto dentro do Python é sempre do minúsculo para o maiúsculo, ou seja, o python considera que a letra A é maior que a letra a, por isso o resultado é diferente do esperado.\n",
    "\n",
    "## TABELA ASCII - padrão de internacionalização de tabelas que vem desde os primórdios da programação.\n",
    "## A tabela ASCII é uma tabela que contém os códigos numéricos de cada caractere, ou seja, cada letra tem um número associado a ela. O padrão ASCII é o mesmo para todas as linguagens de programação, ou seja, o número 65 sempre será a letra A, o número 66 sempre será a letra B e assim por diante. O padrão ASCII é utilizado para representar caracteres em computadores e sistemas de comunicação.\n",
    "## A tabela ASCII é uma tabela que contém os códigos numéricos de cada caractere, ou seja, cada letra tem um número associado a ela. O padrão ASCII é o mesmo para todas as linguagens de programação, ou seja, o número 65 sempre será a letra A, o número 66 sempre será a letra B e assim por diante. O padrão ASCII é utilizado para representar caracteres em computadores e sistemas de comunicação. \n",
    "#por exemplo o a minúsculo na tabela ascii é 97 e o A maiúsculo é 65, ou seja, o a minúsculo é maior que o A maiúsculo.\n",
    "## o mesmo acontece com os números, o número 1 é menor que o número 2, mas o número 10 é maior que o número 2, ou seja, o python considera que o número 10 é maior que o número 2, por isso o resultado é diferente do esperado.\n",
    "\n",
    "## exemplo no resultado abaixo."
   ]
  },
  {
   "cell_type": "code",
   "execution_count": 17,
   "metadata": {},
   "outputs": [
    {
     "name": "stdout",
     "output_type": "stream",
     "text": [
      "Não !!! Eu quero a Spathiphyllum, compre uma Spathiphyllum para você.\n"
     ]
    }
   ],
   "source": [
    "#Lab 3.1.10\n",
    "\n",
    "#Fazendo IF com strings\n",
    "\n",
    "nome = input(\"Digite seu nome: \")\n",
    "nome2 = \"Spathiphyllum\"\n",
    "nome3 = \"spathiphyllum\"\n",
    "\n",
    "if nome == nome2:\n",
    "    print (\"Sim, a Spathiphyllum é a melhor planta de todos os tempos\")\n",
    "elif nome == nome3:\n",
    "    print (\"Não, eu quero a grande Spathiphyllum!!!!!\")\n",
    "elif nome != nome2:\n",
    "    print (\"Não !!! Eu quero a Spathiphyllum, compre uma Spathiphyllum para você.\")"
   ]
  },
  {
   "cell_type": "code",
   "execution_count": 18,
   "metadata": {},
   "outputs": [
    {
     "name": "stdout",
     "output_type": "stream",
     "text": [
      "Yes, Spathiphyllum is the best plant ever\n"
     ]
    }
   ],
   "source": [
    "### Forma do professor\n",
    "\n",
    "flor = input(\"Digite o nome da flor: \")\n",
    "if flor == \"spathiphyllum\":\n",
    "    print(\"No, I want a big Spathiphyllum\")\n",
    "elif flor == \"Spathiphyllum\":\n",
    "    print(\"Yes, Spathiphyllum is the best plant ever\")\n",
    "else:\n",
    "    print(\"Spathiphyllum Not\" + flor + \" !\")\n",
    "\n",
    "### usou a \"soma de textos\" muito inteligente!! concatena os dados mais facilmente"
   ]
  },
  {
   "cell_type": "code",
   "execution_count": 35,
   "metadata": {},
   "outputs": [
    {
     "name": "stdout",
     "output_type": "stream",
     "text": [
      "O imposto é:  0 thalers\n"
     ]
    }
   ],
   "source": [
    "## se a renda do cidadão não era superior a 85.528 talões, o imposto era igual a 18% da renda, menos 556 taller e 2 centavos (isso era o que eles chamavam de isenção de imposto )\n",
    "## se a receita fosse superior a esse valor, o imposto seria igual a 14.839 talões e 2 centavos, mais 32% do excedente em mais de 85.528 talões.\n",
    "\n",
    "## Regras:\n",
    "\n",
    "# Ela deve aceitar um valor de ponto flutuante: a receita.\n",
    "# Em seguida, ele deve imprimir o imposto calculado, arredondado para inteiro. Há uma função chamada round()que fará o arredondamento para você - você encontrará no código do esqueleto no editor.\n",
    "\n",
    "renda = float(input(\"Digite o valor da sua renda: \"))\n",
    "\n",
    "if renda < 85528:\n",
    "     imposto = (renda*0.18)-556.02\n",
    "     if imposto <=0:\n",
    "         imposto = 0\n",
    "else:\n",
    "     imposto = 14839.02 + (renda-85528)*0.32\n",
    "\n",
    "imposto = round(imposto, 0)\n",
    "print (\"O imposto é: \", imposto, \"thalers\")"
   ]
  },
  {
   "cell_type": "code",
   "execution_count": null,
   "metadata": {},
   "outputs": [
    {
     "name": "stdout",
     "output_type": "stream",
     "text": [
      "O imposto é:  -376.0 thalers\n"
     ]
    }
   ],
   "source": [
    "#### esse está errado porquê ele já entende o negativo no IF o correto é na situação acima mesmo\n",
    "\n",
    "renda = float(input(\"Digite o valor da sua renda: \"))\n",
    "\n",
    "if renda < 85528:\n",
    "     imposto = (renda*0.18)-556.02\n",
    "elif imposto <=0:\n",
    "     imposto = 0 \n",
    "\n",
    "else:\n",
    "     imposto = 14839.02 + (renda-85528)*0.32\n",
    "\n",
    "imposto = round(imposto, 0)\n",
    "print (\"O imposto é: \", imposto, \"thalers\")"
   ]
  },
  {
   "cell_type": "code",
   "execution_count": 44,
   "metadata": {},
   "outputs": [
    {
     "name": "stdout",
     "output_type": "stream",
     "text": [
      "Ano comum\n"
     ]
    }
   ],
   "source": [
    "# Lab 3.1.12\n",
    "\n",
    "# Como você certamente sabe, devido a algumas razões astronômicas, os anos podem ser bissextos ou comuns . Os primeiros têm 366 dias, enquanto os segundos têm 365 dias.\n",
    "\n",
    "# Desde a introdução do calendário gregoriano (em 1582), a regra a seguir é usada para determinar o tipo de ano:\n",
    "\n",
    "# se o número do ano não é divisível por quatro, é um ano comum;\n",
    "# caso contrário, se o número do ano não for divisível por 100, será um ano bissexto;\n",
    "# caso contrário, se o número do ano não for divisível por 400, é um ano comum ;\n",
    "# caso contrário, é um ano bissexto . #\n",
    "\n",
    "year = int(input(\"Digite o ano: \"))\n",
    "\n",
    "if year < 1582:\n",
    "    print(\"Não pertence ao calendário gregoriano\")\n",
    "else:\n",
    "    if year % 4 != 0:\n",
    "        print(\"Ano comum\")\n",
    "    else:\n",
    "        if year % 100 != 0:\n",
    "            print(\"Ano bissexto\")\n",
    "        else:\n",
    "            if year % 400 != 0:\n",
    "                print(\"Ano comum\")\n",
    "            else:\n",
    "                print(\"Ano bissexto\")\n"
   ]
  },
  {
   "cell_type": "code",
   "execution_count": null,
   "metadata": {},
   "outputs": [
    {
     "name": "stdout",
     "output_type": "stream",
     "text": [
      "Ano bissexto\n"
     ]
    }
   ],
   "source": [
    "## correção professor #\n",
    "\n",
    "year = int(input(\"Digite o ano: \"))\n",
    "\n",
    "if year < 1582:\n",
    "    print(\"Não pertence ao calendário gregoriano\")\n",
    "else:\n",
    "    if year % 4 != 0:\n",
    "        print(\"Ano comum\")\n",
    "    elif year % 100 != 0:\n",
    "        print(\"Ano bissexto\")\n",
    "    elif year % 400 != 0:\n",
    "        print(\"Ano comum\")\n",
    "    else:\n",
    "        print(\"Ano bissexto\")\n",
    "\n",
    "## o professor fez a mesma coisa que eu, mas ele usou o elif, o que torna o código mais limpo e mais fácil de entender.\n",
    "## Lembrar que a % significa (resto, divisão inteira) e o // significa (divisão inteira) no caso não é divisivel por 4 100 e 400 respectivamente.\n",
    "\n",
    "## o python sempre vai ficar testando as condições, então se você colocar um IF dentro de um IF, ele vai testar a primeira condição e depois a segunda condição, ou seja, o python não vai parar de testar as condições até que todas sejam testadas.\n",
    "## o python não vai parar de testar as condições até que todas sejam testadas, ou seja, se você colocar um IF dentro de um IF, ele vai testar a primeira condição e depois a segunda condição, ou seja, o python não vai parar de testar as condições até que todas sejam testadas."
   ]
  },
  {
   "cell_type": "code",
   "execution_count": null,
   "metadata": {
    "vscode": {
     "languageId": "yaml"
    }
   },
   "outputs": [
    {
     "name": "stdout",
     "output_type": "stream",
     "text": [
      "Collecting mysql-connector-python\n",
      "  Downloading mysql_connector_python-9.2.0-cp313-cp313-win_amd64.whl.metadata (6.2 kB)\n",
      "Downloading mysql_connector_python-9.2.0-cp313-cp313-win_amd64.whl (16.1 MB)\n",
      "   ---------------------------------------- 0.0/16.1 MB ? eta -:--:--\n",
      "   --- ------------------------------------ 1.6/16.1 MB 11.2 MB/s eta 0:00:02\n",
      "   ---------------- ----------------------- 6.6/16.1 MB 18.5 MB/s eta 0:00:01\n",
      "   ---------------------------- ----------- 11.5/16.1 MB 21.1 MB/s eta 0:00:01\n",
      "   ---------------------------------------  16.0/16.1 MB 21.1 MB/s eta 0:00:01\n",
      "   ---------------------------------------- 16.1/16.1 MB 20.1 MB/s eta 0:00:00\n",
      "Installing collected packages: mysql-connector-python\n",
      "Successfully installed mysql-connector-python-9.2.0\n"
     ]
    },
    {
     "name": "stderr",
     "output_type": "stream",
     "text": [
      "\n",
      "[notice] A new release of pip is available: 24.3.1 -> 25.0.1\n",
      "[notice] To update, run: python.exe -m pip install --upgrade pip\n"
     ]
    }
   ],
   "source": [
    "!pip install mysql-connector-python\n",
    "\n",
    "run: python.exe -m pip install --upgrade pip"
   ]
  },
  {
   "cell_type": "code",
   "execution_count": null,
   "metadata": {},
   "outputs": [],
   "source": [
    "## Multipla atribuição....\n",
    "\n",
    "a, b, c = 1, 2, 3\n",
    "\n",
    "# valores de a = 5, b = 6, faça uma permuta com as váriaveis\n",
    "a = 5\n",
    "b = 6\n",
    "#efetuando a troca\n",
    "apoio = a\n",
    "a = b\n",
    "b = apoio  \n",
    "# efetuando a permuta no python\n",
    "a, b = b, a\n",
    "# o python faz a permuta de forma mais rápida e eficiente, ou seja, o python troca os valores de a e b sem precisar de uma variável auxiliar.\n"
   ]
  }
 ],
 "metadata": {
  "kernelspec": {
   "display_name": ".venv",
   "language": "python",
   "name": "python3"
  },
  "language_info": {
   "codemirror_mode": {
    "name": "ipython",
    "version": 3
   },
   "file_extension": ".py",
   "mimetype": "text/x-python",
   "name": "python",
   "nbconvert_exporter": "python",
   "pygments_lexer": "ipython3",
   "version": "3.13.2"
  }
 },
 "nbformat": 4,
 "nbformat_minor": 2
}
