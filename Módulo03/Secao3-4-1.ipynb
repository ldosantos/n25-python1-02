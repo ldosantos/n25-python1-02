{
 "cells": [
  {
   "cell_type": "markdown",
   "metadata": {},
   "source": [
    "# 3.4 Listas"
   ]
  },
  {
   "cell_type": "code",
   "execution_count": null,
   "metadata": {},
   "outputs": [
    {
     "name": "stdout",
     "output_type": "stream",
     "text": [
      "3\n",
      "[1, 2, 9, 4, 5, 6]\n",
      "6\n",
      "[1, 2, 9, 4, 6]\n"
     ]
    }
   ],
   "source": [
    "# Representando uma lista\n",
    "\n",
    "lista = [1,2,3,4,5,6]\n",
    "\n",
    "print (lista[2])\n",
    "lista [2] = 9 # Alterando o item da posição 2\n",
    "print (lista)\n",
    "\n",
    "print(len(lista)) #retorna o tamanhoks\n",
    "\n",
    "del lista[4]\n",
    "\n",
    "print(lista)"
   ]
  },
  {
   "cell_type": "code",
   "execution_count": 11,
   "metadata": {},
   "outputs": [
    {
     "name": "stdout",
     "output_type": "stream",
     "text": [
      "5\n",
      "4\n",
      "[-7]\n",
      "5\n"
     ]
    }
   ],
   "source": [
    "## acessando elementos com índice negativo\n",
    "\n",
    "lista = [1,2,3,4,5]\n",
    "print (lista [-1])\n",
    "print (lista [-2])\n",
    "print([~(len(lista))-1])\n",
    "print(lista[len(lista)-1])"
   ]
  },
  {
   "cell_type": "markdown",
   "metadata": {},
   "source": [
    "#### Funções x Métodos\n",
    "Exemplos de função: len() ##tamanho dos valores, min(), max(), print()\n",
    "Métodos é um pouco diferente....\n",
    "objeto.método()\n",
    "Exemplos de métodos:\n",
    "lista = [1,2,3,4,5,6]\n",
    "lista.append ##acrescentar em portugues (6) <- isso adiciona o número 6 para a lista no final"
   ]
  },
  {
   "cell_type": "code",
   "execution_count": null,
   "metadata": {},
   "outputs": [
    {
     "name": "stdout",
     "output_type": "stream",
     "text": [
      "['__add__', '__class__', '__class_getitem__', '__contains__', '__delattr__', '__delitem__', '__dir__', '__doc__', '__eq__', '__format__', '__ge__', '__getattribute__', '__getitem__', '__getstate__', '__gt__', '__hash__', '__iadd__', '__imul__', '__init__', '__init_subclass__', '__iter__', '__le__', '__len__', '__lt__', '__mul__', '__ne__', '__new__', '__reduce__', '__reduce_ex__', '__repr__', '__reversed__', '__rmul__', '__setattr__', '__setitem__', '__sizeof__', '__str__', '__subclasshook__', 'append', 'clear', 'copy', 'count', 'extend', 'index', 'insert', 'pop', 'remove', 'reverse', 'sort']\n"
     ]
    }
   ],
   "source": [
    "lista = [1,2,3,4,5]\n",
    "lista.append(6)\n",
    "print(dir(lista)) #mostra todas as propriedades da lista"
   ]
  },
  {
   "cell_type": "code",
   "execution_count": 21,
   "metadata": {},
   "outputs": [
    {
     "name": "stdout",
     "output_type": "stream",
     "text": [
      "[1, 2, 3, 9, 4, 5]\n"
     ]
    }
   ],
   "source": [
    "lista = [1,2,3,4,5]\n",
    "lista.insert(3,9)\n",
    "print(lista)"
   ]
  },
  {
   "cell_type": "code",
   "execution_count": 24,
   "metadata": {},
   "outputs": [
    {
     "name": "stdout",
     "output_type": "stream",
     "text": [
      "Indice:  0 Valor:  1\n",
      "Indice:  1 Valor:  2\n",
      "Indice:  2 Valor:  3\n",
      "Indice:  3 Valor:  4\n",
      "Indice:  4 Valor:  5\n",
      "Fim do programa\n"
     ]
    }
   ],
   "source": [
    "## Usando for em listas pelo indice\n",
    "\n",
    "vai_corinthians = [1,2,3,4,5]\n",
    "for i in range (len(vai_corinthians)):\n",
    "    print(\"Indice: \",i,\"Valor: \",vai_corinthians[i])\n",
    "print(\"Fim do programa\")"
   ]
  },
  {
   "cell_type": "code",
   "execution_count": 29,
   "metadata": {},
   "outputs": [
    {
     "name": "stdout",
     "output_type": "stream",
     "text": [
      "Valor:  1\n",
      "Valor:  2\n",
      "Valor:  3\n",
      "Valor:  4\n",
      "Valor:  5\n",
      "Fim do programa\n"
     ]
    }
   ],
   "source": [
    "vai_corinthians = [1,2,3,4,5]\n",
    "for el in vai_corinthians:\n",
    "    print(\"Valor: \",el)\n",
    "print(\"Fim do programa\")"
   ]
  },
  {
   "cell_type": "code",
   "execution_count": null,
   "metadata": {},
   "outputs": [
    {
     "name": "stdout",
     "output_type": "stream",
     "text": [
      "[23, 1, 2, 3, 4, 5, 6, 7, 8, 9, 10, 11, 13, 14, 15, 16, 17, 18, 19, 20, 21, 22, 12, 25]\n"
     ]
    }
   ],
   "source": [
    "## Permuta de elementos\n",
    "\n",
    "lista = [1,2,3,4,5,6,7,8,9,10,11,12,13,14,15,16,17,18,19,20,21,22,23,25]\n",
    "for i in range(len(lista)//2):\n",
    "    lista[i], lista[~1] = lista[~1], lista[i]\n",
    "print(lista)"
   ]
  },
  {
   "cell_type": "code",
   "execution_count": 50,
   "metadata": {},
   "outputs": [
    {
     "name": "stdout",
     "output_type": "stream",
     "text": [
      "3\n",
      "[1, [2, 3]]\n",
      "3\n"
     ]
    }
   ],
   "source": [
    "lista = [1,2.5, \"Ola\" , [1,2,3] ,[1,[2,3]] , True]\n",
    "print (lista[3][2])\n",
    "print (lista[4])\n",
    "print (lista[4][1][1]) #trisdimensional"
   ]
  }
 ],
 "metadata": {
  "kernelspec": {
   "display_name": ".venv",
   "language": "python",
   "name": "python3"
  },
  "language_info": {
   "codemirror_mode": {
    "name": "ipython",
    "version": 3
   },
   "file_extension": ".py",
   "mimetype": "text/x-python",
   "name": "python",
   "nbconvert_exporter": "python",
   "pygments_lexer": "ipython3",
   "version": "3.13.2"
  }
 },
 "nbformat": 4,
 "nbformat_minor": 2
}
