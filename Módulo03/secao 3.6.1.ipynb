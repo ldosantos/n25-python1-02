{
 "cells": [
  {
   "cell_type": "markdown",
   "metadata": {},
   "source": [
    "# 3.6.1 Operações com lista\n",
    "### Fatiamento"
   ]
  },
  {
   "cell_type": "code",
   "execution_count": 1,
   "metadata": {},
   "outputs": [
    {
     "name": "stdout",
     "output_type": "stream",
     "text": [
      "20 15\n"
     ]
    }
   ],
   "source": [
    "# Operações com valores\n",
    "\n",
    "item1 = 10\n",
    "item2 = 20\n",
    "item1 = item2\n",
    "item2 = 15\n",
    "print (item1, item2)"
   ]
  },
  {
   "cell_type": "code",
   "execution_count": null,
   "metadata": {},
   "outputs": [
    {
     "name": "stdout",
     "output_type": "stream",
     "text": [
      "[1, 2, 3, 4]\n",
      "1992142356928 1992142356928\n",
      "140704054969864 140704054969704\n"
     ]
    }
   ],
   "source": [
    "#Operação com lista\n",
    "lista1 = [1,2,3]\n",
    "lista2 = lista1\n",
    "lista2.append(4)\n",
    "print(lista1)\n",
    "print (id(lista1), id(lista2)) ## endereço de memória\n",
    "print (id(item1),id(item2))\n",
    "\n",
    "\n"
   ]
  },
  {
   "cell_type": "code",
   "execution_count": 10,
   "metadata": {},
   "outputs": [
    {
     "name": "stdout",
     "output_type": "stream",
     "text": [
      "[2, 3]\n",
      "[1, 2, 3]\n",
      "[2, 3, 4, 5]\n",
      "[1, 2, 3, 4, 5]\n",
      "[2, 3]\n"
     ]
    }
   ],
   "source": [
    "# Fatiamento\n",
    "lista = [1,2,3,4,5]\n",
    "print (lista[1:3])\n",
    "print (lista[:3])  ##ele pega até o último elemento -1\n",
    "print (lista[1:])\n",
    "print (lista[:])\n",
    "print (lista[1:-2])"
   ]
  },
  {
   "cell_type": "code",
   "execution_count": 16,
   "metadata": {},
   "outputs": [
    {
     "name": "stdout",
     "output_type": "stream",
     "text": [
      "[1, 2, 3, 4]\n",
      "[1, 2, 3, 4, 5]\n",
      "[1, 2, 3, 4] 1992143250240\n",
      "[1, 2, 3, 4, 5] 1992143256832\n",
      "[1, 4]\n"
     ]
    }
   ],
   "source": [
    "lista1 = [1,2,3,4]\n",
    "lista2 = lista1 [:]   # <<<<<<< fatiamento\n",
    "lista2.append (5)\n",
    "print(lista1)\n",
    "print(lista2)\n",
    "print(lista1,id(lista1))\n",
    "print(lista2,id(lista2))\n",
    "del lista1[1:3]\n",
    "print(lista1)"
   ]
  },
  {
   "cell_type": "code",
   "execution_count": null,
   "metadata": {},
   "outputs": [
    {
     "name": "stdout",
     "output_type": "stream",
     "text": [
      "True\n",
      "False\n",
      "False\n"
     ]
    }
   ],
   "source": [
    "lista = [7,8,3,2,5]\n",
    "print (5 in lista)\n",
    "print (5 not in lista)\n",
    "print (9 in lista)"
   ]
  },
  {
   "cell_type": "code",
   "execution_count": 21,
   "metadata": {},
   "outputs": [
    {
     "name": "stdout",
     "output_type": "stream",
     "text": [
      "cdefghijklmnopqrstuwx\n"
     ]
    }
   ],
   "source": [
    "## fatiamento em string\n",
    "\n",
    "texto = \"abcdefghijklmnopqrstuwxyz\"\n",
    "print(texto[2:-2])"
   ]
  },
  {
   "cell_type": "code",
   "execution_count": 34,
   "metadata": {},
   "outputs": [
    {
     "name": "stdout",
     "output_type": "stream",
     "text": [
      "A lista com os elementos exclusivos aqui\n",
      "[1, 4, 6, 9]\n"
     ]
    }
   ],
   "source": [
    "my_list = [1, 2, 4, 4, 1, 4, 2, 6, 2, 9]\n",
    "########## 0,1,2,3,4,5,,6,7,8,9,10\n",
    "\n",
    "list.sort(my_list) # Escreva seu código aqui.\n",
    "del (my_list [1:2])\n",
    "del (my_list [1:3])\n",
    "del (my_list [1:4])\n",
    "#\n",
    "print(\"A lista com os elementos exclusivos aqui\")\n",
    "print(my_list)\n"
   ]
  },
  {
   "cell_type": "code",
   "execution_count": null,
   "metadata": {},
   "outputs": [
    {
     "name": "stdout",
     "output_type": "stream",
     "text": [
      "A lista com elementos exclusivos aqui\n",
      "[1, 4, 6, 9]\n",
      "A lista com os elementos exclusivos aqui\n",
      "[1, 4, 6, 9]\n"
     ]
    }
   ],
   "source": [
    "## Correção Professor\n",
    "\n",
    "apoio = []\n",
    "for el in my_list:\n",
    "    if el not in apoio:\n",
    "        apoio.append(el)\n",
    "my_list = apoio\n",
    "print (\"A lista com elementos exclusivos aqui\")\n",
    "print (my_list)\n",
    "\n",
    "my_list = list(dict.fromkeys(my_list))  ## or bellow\n",
    "my_list = list(set(my_list)) ### fromkeys \n",
    "print(\"A lista com os elementos exclusivos aqui\")\n",
    "print(my_list)"
   ]
  }
 ],
 "metadata": {
  "kernelspec": {
   "display_name": ".venv",
   "language": "python",
   "name": "python3"
  },
  "language_info": {
   "codemirror_mode": {
    "name": "ipython",
    "version": 3
   },
   "file_extension": ".py",
   "mimetype": "text/x-python",
   "name": "python",
   "nbconvert_exporter": "python",
   "pygments_lexer": "ipython3",
   "version": "3.13.2"
  }
 },
 "nbformat": 4,
 "nbformat_minor": 2
}
