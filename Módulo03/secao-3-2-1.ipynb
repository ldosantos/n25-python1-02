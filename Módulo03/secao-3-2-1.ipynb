{
 "cells": [
  {
   "cell_type": "markdown",
   "metadata": {},
   "source": [
    "## Loops\n",
    "### Laço while"
   ]
  },
  {
   "cell_type": "code",
   "execution_count": 2,
   "metadata": {},
   "outputs": [
    {
     "name": "stdout",
     "output_type": "stream",
     "text": [
      "Teste...\n"
     ]
    }
   ],
   "source": [
    "## While enquanto o teste for verdadeiro ele faz o teste (ficará em loop)\n",
    "## tudo que for realizado a condição sempre terá dois pontos e deslocamento de blocos\n",
    "\n",
    "### while #conditional_expression:\n",
    "\n",
    "while True:\n",
    "    print(\"Teste...\")\n",
    "    break  # Para o loop, se não tiver o break ele ficará em loop infinito\n",
    "\n",
    "\n"
   ]
  },
  {
   "cell_type": "code",
   "execution_count": null,
   "metadata": {},
   "outputs": [
    {
     "name": "stdout",
     "output_type": "stream",
     "text": [
      "O maior valor é, maior.\n"
     ]
    }
   ],
   "source": [
    "# Exemplo para testar maior valor\n",
    "# Usuário vai digitar os valores até o valor ser -1\n",
    "\n",
    "maior = -999_999_999_999_999_999  # valor inicial para comparação\n",
    "valor = int(input(\"Digite um valor (-1 = fim): \"))\n",
    "while valor != -1:\n",
    "    if valor > maior:\n",
    "        maior = valor\n",
    "    valor = int(input(\"Digite um valor (-1 = fim): \"))\n",
    "if maior > -999_999_999_999_999_999:\n",
    "    print(\"O maior valor é, maior.\")\n",
    "else: (\"Didn't was booked values\")"
   ]
  },
  {
   "cell_type": "code",
   "execution_count": 14,
   "metadata": {},
   "outputs": [
    {
     "name": "stdout",
     "output_type": "stream",
     "text": [
      "Pares : 3 : Impares : 4\n"
     ]
    }
   ],
   "source": [
    "# Solicitar ao usuário a digitação de valor, se -1 encerrar\n",
    "# Contar quantos pares e quantos impares foram digitados\n",
    "\n",
    "par, impar = 0, 0 ##atribuido 0 para par e impar\n",
    "num = int(input(\"Digite um valor (-1 = fim): \"))\n",
    "while num != -1:\n",
    "    if num % 2 == 0: # se o resto da divisão for 0, é par\n",
    "        par += 1 # se o resto da divisão for 0, é par\n",
    "    else:\n",
    "        impar += 1 # se o resto da divisão for 1, é impar\n",
    "    num = int(input(\"Digite um valor (-1 = fim): \"))\n",
    "print(\"Pares\", par, \"Impares\", impar, sep=\" : \") # imprime a quantidade de pares e impares\n",
    "## Exemplo de contagem de pares e impares"
   ]
  },
  {
   "cell_type": "code",
   "execution_count": null,
   "metadata": {},
   "outputs": [
    {
     "name": "stdout",
     "output_type": "stream",
     "text": [
      "0\n",
      "1\n",
      "2\n",
      "3\n",
      "4\n",
      "5\n",
      "6\n",
      "7\n",
      "8\n",
      "9\n",
      "Fim do programa\n"
     ]
    }
   ],
   "source": [
    "contador = 0\n",
    "while contador < 10:\n",
    "    print(contador)\n",
    "    contador += 1 # contador = contador + 1\n",
    "print(\"Fim do programa\")\n",
    "# Exemplo de contagem de pares e impares com o range\n",
    "\n"
   ]
  },
  {
   "cell_type": "code",
   "execution_count": 20,
   "metadata": {},
   "outputs": [
    {
     "name": "stdout",
     "output_type": "stream",
     "text": [
      "0\n",
      "o palmeiras não tem mundial\n",
      "1\n",
      "o palmeiras não tem mundial\n",
      "2\n",
      "o palmeiras não tem mundial\n",
      "3\n",
      "o palmeiras não tem mundial\n",
      "4\n",
      "o palmeiras não tem mundial\n",
      "5\n",
      "o palmeiras não tem mundial\n",
      "6\n",
      "o palmeiras não tem mundial\n",
      "7\n",
      "o palmeiras não tem mundial\n",
      "8\n",
      "o palmeiras não tem mundial\n",
      "9\n",
      "o palmeiras não tem mundial\n",
      "10\n",
      "o palmeiras não tem mundial\n",
      "11\n",
      "o palmeiras não tem mundial\n",
      "12\n",
      "o palmeiras não tem mundial\n",
      "13\n",
      "o palmeiras não tem mundial\n",
      "14\n",
      "o palmeiras não tem mundial\n",
      "15\n",
      "o palmeiras não tem mundial\n",
      "16\n",
      "o palmeiras não tem mundial\n",
      "17\n",
      "o palmeiras não tem mundial\n",
      "18\n",
      "o palmeiras não tem mundial\n",
      "19\n",
      "o palmeiras não tem mundial\n",
      "20\n",
      "o palmeiras não tem mundial\n",
      "21\n",
      "o palmeiras não tem mundial\n",
      "22\n",
      "o palmeiras não tem mundial\n",
      "23\n",
      "o palmeiras não tem mundial\n",
      "24\n",
      "o palmeiras não tem mundial\n",
      "25\n",
      "o palmeiras não tem mundial\n",
      "26\n",
      "o palmeiras não tem mundial\n",
      "27\n",
      "o palmeiras não tem mundial\n",
      "28\n",
      "o palmeiras não tem mundial\n",
      "29\n",
      "o palmeiras não tem mundial\n",
      "30\n",
      "o palmeiras não tem mundial\n",
      "31\n",
      "o palmeiras não tem mundial\n",
      "32\n",
      "o palmeiras não tem mundial\n",
      "33\n",
      "o palmeiras não tem mundial\n",
      "34\n",
      "o palmeiras não tem mundial\n",
      "35\n",
      "o palmeiras não tem mundial\n",
      "36\n",
      "o palmeiras não tem mundial\n",
      "37\n",
      "o palmeiras não tem mundial\n",
      "38\n",
      "o palmeiras não tem mundial\n",
      "39\n",
      "o palmeiras não tem mundial\n",
      "40\n",
      "o palmeiras não tem mundial\n",
      "41\n",
      "o palmeiras não tem mundial\n",
      "42\n",
      "o palmeiras não tem mundial\n",
      "43\n",
      "o palmeiras não tem mundial\n",
      "44\n",
      "o palmeiras não tem mundial\n",
      "45\n",
      "o palmeiras não tem mundial\n",
      "46\n",
      "o palmeiras não tem mundial\n",
      "47\n",
      "o palmeiras não tem mundial\n",
      "48\n",
      "o palmeiras não tem mundial\n",
      "49\n",
      "o palmeiras não tem mundial\n",
      "50\n",
      "o palmeiras não tem mundial\n",
      "51\n",
      "o palmeiras não tem mundial\n",
      "52\n",
      "o palmeiras não tem mundial\n",
      "53\n",
      "o palmeiras não tem mundial\n",
      "54\n",
      "o palmeiras não tem mundial\n",
      "55\n",
      "o palmeiras não tem mundial\n",
      "56\n",
      "o palmeiras não tem mundial\n",
      "57\n",
      "o palmeiras não tem mundial\n",
      "58\n",
      "o palmeiras não tem mundial\n",
      "59\n",
      "o palmeiras não tem mundial\n",
      "60\n",
      "o palmeiras não tem mundial\n",
      "61\n",
      "o palmeiras não tem mundial\n",
      "62\n",
      "o palmeiras não tem mundial\n",
      "63\n",
      "o palmeiras não tem mundial\n",
      "64\n",
      "o palmeiras não tem mundial\n",
      "65\n",
      "o palmeiras não tem mundial\n",
      "66\n",
      "o palmeiras não tem mundial\n",
      "67\n",
      "o palmeiras não tem mundial\n",
      "68\n",
      "o palmeiras não tem mundial\n",
      "69\n",
      "o palmeiras não tem mundial\n",
      "70\n",
      "o palmeiras não tem mundial\n",
      "71\n",
      "o palmeiras não tem mundial\n",
      "72\n",
      "o palmeiras não tem mundial\n",
      "73\n",
      "o palmeiras não tem mundial\n",
      "74\n",
      "o palmeiras não tem mundial\n",
      "75\n",
      "o palmeiras não tem mundial\n",
      "76\n",
      "o palmeiras não tem mundial\n",
      "77\n",
      "o palmeiras não tem mundial\n",
      "78\n",
      "o palmeiras não tem mundial\n",
      "79\n",
      "o palmeiras não tem mundial\n",
      "80\n",
      "o palmeiras não tem mundial\n",
      "81\n",
      "o palmeiras não tem mundial\n",
      "82\n",
      "o palmeiras não tem mundial\n",
      "83\n",
      "o palmeiras não tem mundial\n",
      "84\n",
      "o palmeiras não tem mundial\n",
      "85\n",
      "o palmeiras não tem mundial\n",
      "86\n",
      "o palmeiras não tem mundial\n",
      "87\n",
      "o palmeiras não tem mundial\n",
      "88\n",
      "o palmeiras não tem mundial\n",
      "89\n",
      "o palmeiras não tem mundial\n",
      "90\n",
      "o palmeiras não tem mundial\n",
      "91\n",
      "o palmeiras não tem mundial\n",
      "92\n",
      "o palmeiras não tem mundial\n",
      "93\n",
      "o palmeiras não tem mundial\n",
      "94\n",
      "o palmeiras não tem mundial\n",
      "95\n",
      "o palmeiras não tem mundial\n",
      "96\n",
      "o palmeiras não tem mundial\n",
      "97\n",
      "o palmeiras não tem mundial\n",
      "98\n",
      "o palmeiras não tem mundial\n",
      "99\n",
      "o palmeiras não tem mundial\n",
      "Fim do programa\n"
     ]
    }
   ],
   "source": [
    "for contador in range(100):\n",
    "    print(contador)\n",
    "    print(\"o palmeiras não tem mundial\")\n",
    "print(\"Fim do programa\")    "
   ]
  },
  {
   "cell_type": "code",
   "execution_count": 24,
   "metadata": {},
   "outputs": [
    {
     "name": "stdout",
     "output_type": "stream",
     "text": [
      "0\n",
      "1\n",
      "2\n",
      "3\n",
      "4\n",
      "5\n",
      "6\n",
      "7\n",
      "8\n",
      "9\n",
      "Fim do programa\n"
     ]
    }
   ],
   "source": [
    "for contador in range(10):\n",
    "    print(contador)\n",
    "print(\"Fim do programa\")    "
   ]
  },
  {
   "cell_type": "code",
   "execution_count": null,
   "metadata": {},
   "outputs": [
    {
     "name": "stdout",
     "output_type": "stream",
     "text": [
      "1\n",
      "2\n",
      "3\n",
      "4\n",
      "Fim do programa\n"
     ]
    }
   ],
   "source": [
    "### Range com 2 parametros (inicio, fim)\n",
    "\n",
    "for contador in range (1,5):\n",
    "    print(contador)  \n",
    "print(\"Fim do programa\")\n",
    "### Range com 2 parametros (inicio, fim)"
   ]
  },
  {
   "cell_type": "code",
   "execution_count": 34,
   "metadata": {},
   "outputs": [
    {
     "name": "stdout",
     "output_type": "stream",
     "text": [
      "2\n",
      "4\n",
      "6\n",
      "8\n",
      "10\n",
      "Fim do programa\n"
     ]
    }
   ],
   "source": [
    "for contador in (2, 4, 6, 8, 10):\n",
    "    print(contador)\n",
    "print(\"Fim do programa\")\n",
    "### Range com 3 parametros (inicio, fim, passo)"
   ]
  },
  {
   "cell_type": "code",
   "execution_count": 41,
   "metadata": {},
   "outputs": [
    {
     "name": "stdout",
     "output_type": "stream",
     "text": [
      "Fim do programa 9\n"
     ]
    }
   ],
   "source": [
    "# for interessante\n",
    "\n",
    "contador = 9\n",
    "for contador in range(1,1):\n",
    "    print(contador)\n",
    "print(\"Fim do programa\", contador )"
   ]
  },
  {
   "cell_type": "code",
   "execution_count": 48,
   "metadata": {},
   "outputs": [
    {
     "name": "stdout",
     "output_type": "stream",
     "text": [
      "10\n",
      "9\n",
      "8\n",
      "7\n",
      "6\n",
      "5\n",
      "4\n",
      "3\n",
      "2\n",
      "1\n",
      "Fim do programa\n"
     ]
    }
   ],
   "source": [
    "#Desafio\n",
    "\n",
    "for contador in range(10,0,-1): #imprimir do 10 ao 1\n",
    "    print(contador)\n",
    "print(\"Fim do programa\")"
   ]
  },
  {
   "cell_type": "code",
   "execution_count": null,
   "metadata": {},
   "outputs": [
    {
     "name": "stdout",
     "output_type": "stream",
     "text": [
      "1 Mississippi\n",
      "2 Mississippi\n",
      "3 Mississippi\n",
      "4 Mississippi\n",
      "5 Mississippi\n",
      "Pronto ou não, aqui vou eu\n"
     ]
    }
   ],
   "source": [
    "# Lab 3.2.7\n",
    "\n",
    "# Escreva um loop for que conte até cinco\n",
    "   # Corpo do loop - exiba o número de iteração do loop e a palavra \"Mississippi\".\n",
    "   # Corpo do loop - use: time.sleep(1)\n",
    "\n",
    "# Escreva uma função print com a mensagem final.\n",
    "\n",
    "import time\n",
    "\n",
    "for i in range (1,6):\n",
    "    print(i, \"Mississippi\")\n",
    "    time.sleep(2)  ##segundos aqui você define o tempo de espera\n",
    "print(\"Pronto ou não, aqui vou eu\")"
   ]
  },
  {
   "cell_type": "markdown",
   "metadata": {},
   "source": [
    "### Instrução break e continue"
   ]
  },
  {
   "cell_type": "code",
   "execution_count": 58,
   "metadata": {},
   "outputs": [
    {
     "name": "stdout",
     "output_type": "stream",
     "text": [
      "0\n",
      "1\n",
      "2\n",
      "Fim do programa\n"
     ]
    }
   ],
   "source": [
    "contador = 0\n",
    "while contador < 10:\n",
    "    print(contador)\n",
    "    contador +=1\n",
    "    if contador ==3:\n",
    "        break\n",
    "print (\"Fim do programa\")"
   ]
  },
  {
   "cell_type": "code",
   "execution_count": 66,
   "metadata": {},
   "outputs": [
    {
     "name": "stdout",
     "output_type": "stream",
     "text": [
      "1\n",
      "2\n",
      "3\n",
      "4\n",
      "5\n",
      "6\n",
      "7\n",
      "8\n",
      "9\n",
      "Fim do programa\n"
     ]
    }
   ],
   "source": [
    "contador = 0\n",
    "\n",
    "while contador < 10:\n",
    "    contador +=1\n",
    "    if contador==10:\n",
    "        continue\n",
    "    print (contador)\n",
    "print (\"Fim do programa\")"
   ]
  },
  {
   "cell_type": "code",
   "execution_count": 80,
   "metadata": {},
   "outputs": [
    {
     "name": "stdout",
     "output_type": "stream",
     "text": [
      "o-t-o-r-r-i-n-o-l-a-r-i-n-g-o-l-o-g-i-s-t-a-\n",
      "Fim do programa\n",
      "atsigologniralonirroto\n"
     ]
    }
   ],
   "source": [
    "## Exemplo interessante do for\n",
    "\n",
    "palavra = \"otorrinolaringologista\"\n",
    "for letra in palavra:\n",
    "    print(letra,end=\"-\")\n",
    "print(\"\\nFim do programa\")\n",
    "\n",
    "#inversão de palavras\n",
    "\n",
    "pal_inv = \"\"\n",
    "\n",
    "for letra in palavra:\n",
    "    pal_inv = letra + pal_inv\n",
    "print(pal_inv)\n"
   ]
  }
 ],
 "metadata": {
  "kernelspec": {
   "display_name": ".venv",
   "language": "python",
   "name": "python3"
  },
  "language_info": {
   "codemirror_mode": {
    "name": "ipython",
    "version": 3
   },
   "file_extension": ".py",
   "mimetype": "text/x-python",
   "name": "python",
   "nbconvert_exporter": "python",
   "pygments_lexer": "ipython3",
   "version": "3.13.2"
  }
 },
 "nbformat": 4,
 "nbformat_minor": 2
}
