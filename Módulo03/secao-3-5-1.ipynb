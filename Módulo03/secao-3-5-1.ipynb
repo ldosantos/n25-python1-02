{
 "cells": [
  {
   "cell_type": "markdown",
   "metadata": {},
   "source": [
    "# 3.5.1 - Ordenando Lista"
   ]
  },
  {
   "cell_type": "code",
   "execution_count": 18,
   "metadata": {},
   "outputs": [
    {
     "name": "stdout",
     "output_type": "stream",
     "text": [
      "trocas:  3\n",
      "trocas:  6\n",
      "trocas:  8\n",
      "trocas:  8\n",
      "[2, 4, 6, 8, 10]\n"
     ]
    }
   ],
   "source": [
    "# Ordenação BubblesSort (Metódo bolha)\n",
    "\n",
    "lista = [8,10,6,2,4]\n",
    "troca = True\n",
    "qtd = 0\n",
    "while troca:\n",
    "    qtde = 0\n",
    "    troca = False\n",
    "    for i in range (len(lista)-1):\n",
    "        if lista[i]>lista[i+1]:\n",
    "            lista[i],lista[i+1] = lista[i+1], lista[i]  #permuta\n",
    "            troca = True\n",
    "            qtd += 1\n",
    "    print (\"trocas: \",qtd)\n",
    "print (lista)"
   ]
  },
  {
   "cell_type": "code",
   "execution_count": null,
   "metadata": {},
   "outputs": [
    {
     "name": "stdout",
     "output_type": "stream",
     "text": [
      "[2, 4, 6, 8, 10]\n",
      "[10, 8, 6, 4, 2]\n"
     ]
    }
   ],
   "source": [
    "lista = [8,10,6,2,4]\n",
    "lista.sort() ## organizar\n",
    "print (lista)\n",
    "lista.reverse()\n",
    "print (lista)"
   ]
  },
  {
   "cell_type": "code",
   "execution_count": 25,
   "metadata": {},
   "outputs": [
    {
     "name": "stdout",
     "output_type": "stream",
     "text": [
      "['AAna', 'Adriano', 'Augusto', 'Fernanda', 'Luiz']\n",
      "['Luiz', 'Fernanda', 'Augusto', 'Adriano', 'AAna']\n"
     ]
    }
   ],
   "source": [
    "lista = [str(\"Luiz\"), \"Fernanda\", \"Augusto\", \"Adriano\",\"AAna\"]\n",
    "lista.sort()\n",
    "print (lista)\n",
    "lista.reverse()\n",
    "print(lista)"
   ]
  }
 ],
 "metadata": {
  "kernelspec": {
   "display_name": ".venv",
   "language": "python",
   "name": "python3"
  },
  "language_info": {
   "codemirror_mode": {
    "name": "ipython",
    "version": 3
   },
   "file_extension": ".py",
   "mimetype": "text/x-python",
   "name": "python",
   "nbconvert_exporter": "python",
   "pygments_lexer": "ipython3",
   "version": "3.13.2"
  }
 },
 "nbformat": 4,
 "nbformat_minor": 2
}
