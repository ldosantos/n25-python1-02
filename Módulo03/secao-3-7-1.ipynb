{
 "cells": [
  {
   "cell_type": "markdown",
   "metadata": {},
   "source": [
    "# 3.7.1 - Operações avançadas em lista\n",
    "### list comprehension"
   ]
  },
  {
   "cell_type": "code",
   "execution_count": null,
   "metadata": {},
   "outputs": [
    {
     "name": "stdout",
     "output_type": "stream",
     "text": [
      "[0, 1, 2, 3, 4, 5, 6, 7, 8, 9]\n"
     ]
    }
   ],
   "source": [
    "## montando uma lista simples\n",
    "\n",
    "lista = []\n",
    "for i in range (10):\n",
    "    lista.append(i)\n",
    "print(lista)    ## parte simples do negócio"
   ]
  },
  {
   "cell_type": "code",
   "execution_count": null,
   "metadata": {},
   "outputs": [
    {
     "name": "stdout",
     "output_type": "stream",
     "text": [
      "[0, 1, 2, 3, 4, 5, 6, 7, 8, 9]\n"
     ]
    }
   ],
   "source": [
    "lista = [ i for i in range(10)] ## o i é onde vai ser preenchido cada retorno (i = índice)\n",
    "print(lista)  ## isso é list comprehension (lista de compreensão) usando menos códigos e tudo mais."
   ]
  },
  {
   "cell_type": "code",
   "execution_count": null,
   "metadata": {},
   "outputs": [
    {
     "name": "stdout",
     "output_type": "stream",
     "text": [
      "[[1, 2, 3], [4, 5, 6], [7, 8, 9]]\n"
     ]
    }
   ],
   "source": [
    "#matriz  ## 3 elementos em 3 colunas\n",
    "\n",
    "linha = []\n",
    "for i in range(3): ##para cada linha eu crio uma coluna\n",
    "    coluna= []\n",
    "    for l in range(3):\n",
    "        coluna.append(l+1+i*3)\n",
    "    linha.append(coluna)\n",
    "print (linha)"
   ]
  },
  {
   "cell_type": "code",
   "execution_count": 47,
   "metadata": {},
   "outputs": [
    {
     "name": "stdout",
     "output_type": "stream",
     "text": [
      "[[1, 2, 3], [4, 5, 6], [7, 8, 9]]\n"
     ]
    }
   ],
   "source": [
    "## usando list comprehension\n",
    "\n",
    "linha = [[l+1+i*3 for l in range (3)] for i in range (3)]   ## para cada linha ele faz um looping\n",
    "print (linha)"
   ]
  }
 ],
 "metadata": {
  "kernelspec": {
   "display_name": ".venv",
   "language": "python",
   "name": "python3"
  },
  "language_info": {
   "codemirror_mode": {
    "name": "ipython",
    "version": 3
   },
   "file_extension": ".py",
   "mimetype": "text/x-python",
   "name": "python",
   "nbconvert_exporter": "python",
   "pygments_lexer": "ipython3",
   "version": "3.13.2"
  }
 },
 "nbformat": 4,
 "nbformat_minor": 2
}
