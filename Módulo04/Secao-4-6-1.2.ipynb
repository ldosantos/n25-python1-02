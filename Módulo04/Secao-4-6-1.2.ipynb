{
 "cells": [
  {
   "cell_type": "markdown",
   "metadata": {},
   "source": [
    "# Dicionário"
   ]
  },
  {
   "cell_type": "code",
   "execution_count": 2,
   "metadata": {},
   "outputs": [
    {
     "name": "stdout",
     "output_type": "stream",
     "text": [
      "Luiz Donizeti\n",
      "{'nome': 'Luiz Donizeti', 'endereco': 'Rua das Ruas', 'telefone': '1234546456456'}\n",
      "3\n",
      "True\n",
      "False\n",
      "dict_keys(['nome', 'endereco', 'telefone'])\n",
      "dict_items([('nome', 'Luiz Donizeti'), ('endereco', 'Rua das Ruas'), ('telefone', '1234546456456')])\n",
      "Luiz Donizeti, Rua das Ruas, 1234546456456, \n",
      "nome, endereco, telefone, "
     ]
    }
   ],
   "source": [
    "dic = {\"nome\": \"Luiz Donizeti\", \"endereco\": \"Rua das Ruas\"}\n",
    "print(dic['nome'])\n",
    "dic['telefone'] = '1234546456456'\n",
    "print (dic)\n",
    "print (len(dic))\n",
    "print(\"nome\" in dic)\n",
    "print (\"celular\" in dic)\n",
    "print(dic.keys())\n",
    "print(dic.items())\n",
    "for el in dic.values (): print(el,end=\", \")\n",
    "print()\n",
    "for ch,vl in dic.items(): print(ch,end=\", \")"
   ]
  },
  {
   "cell_type": "code",
   "execution_count": null,
   "metadata": {},
   "outputs": [
    {
     "name": "stdout",
     "output_type": "stream",
     "text": [
      "{'nome': 'Luiz Donizeti', 'endereco': 'Rua das Ruas'}\n"
     ]
    }
   ],
   "source": [
    "del dic[\"telefone\"]\n",
    "print(dic) ## programação para futuros cadastros de clientes por exemplo."
   ]
  }
 ],
 "metadata": {
  "kernelspec": {
   "display_name": ".venv",
   "language": "python",
   "name": "python3"
  },
  "language_info": {
   "codemirror_mode": {
    "name": "ipython",
    "version": 3
   },
   "file_extension": ".py",
   "mimetype": "text/x-python",
   "name": "python",
   "nbconvert_exporter": "python",
   "pygments_lexer": "ipython3",
   "version": "3.13.2"
  }
 },
 "nbformat": 4,
 "nbformat_minor": 2
}
