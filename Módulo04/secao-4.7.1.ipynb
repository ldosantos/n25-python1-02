{
 "cells": [
  {
   "cell_type": "markdown",
   "metadata": {},
   "source": [
    "# 4.7.1 - Exceções\n",
    "Tratamento de erros no Python"
   ]
  },
  {
   "cell_type": "code",
   "execution_count": null,
   "metadata": {},
   "outputs": [
    {
     "name": "stdout",
     "output_type": "stream",
     "text": [
      "O valor resultante será:  0.2\n",
      "Outro erro aconteceu list index out of range\n",
      "Ok tudo certo! Parabéns!!!! =DDD\n"
     ]
    }
   ],
   "source": [
    "# Exemplos de erros de execuções de código\n",
    "\n",
    "try: #tentar\n",
    "    valor = int(input(\"Digite um valor: \"))  ## estou protegendo o erro (vi isso no deepseek)\n",
    "    print (\"O valor resultante será: \", 1/valor)\n",
    "    lista = [1,2,3]\n",
    "    print(lista[5])\n",
    "except ValueError: #exceção\n",
    "    print(\"Ocorreu um erro de conversão! Somente números.\")\n",
    "except ZeroDivisionError:\n",
    "    print (\"Ocorreu um erro, coloque um número acima de 0\")\n",
    "except Exception as e:\n",
    "    print (\"Outro erro aconteceu\", e)\n",
    "print(\"Ok tudo certo! Parabéns!!!! =DDD\")"
   ]
  },
  {
   "cell_type": "code",
   "execution_count": null,
   "metadata": {},
   "outputs": [],
   "source": [
    "## value error = erro de valor\n",
    "## ZeroDivisionError = erro de divisão por 0"
   ]
  },
  {
   "cell_type": "code",
   "execution_count": 28,
   "metadata": {},
   "outputs": [
    {
     "name": "stdout",
     "output_type": "stream",
     "text": [
      "#N/D\n"
     ]
    }
   ],
   "source": [
    "# Exemplos de erros de execuções de código\n",
    "\n",
    "try: #tentar\n",
    "    valor = int(input(\"Digite um valor: \"))  ## estou protegendo o erro (vi isso no deepseek)\n",
    "    lista = [1,2,3]\n",
    "    print(lista[5])\n",
    "    print (\"O valor resultante será: \", 1/valor)\n",
    "except (ValueError, ZeroDivisionError) as x: #exceção\n",
    "    print(\"Ocorreu um erro de conversão ou divisão!\")\n",
    "except Exception as e:  ##NUNCA vem primeiro ele é mais genérico (traz do específico pro genérico)\n",
    "    print (\"#N/D\")"
   ]
  }
 ],
 "metadata": {
  "kernelspec": {
   "display_name": ".venv",
   "language": "python",
   "name": "python3"
  },
  "language_info": {
   "codemirror_mode": {
    "name": "ipython",
    "version": 3
   },
   "file_extension": ".py",
   "mimetype": "text/x-python",
   "name": "python",
   "nbconvert_exporter": "python",
   "pygments_lexer": "ipython3",
   "version": "3.13.2"
  }
 },
 "nbformat": 4,
 "nbformat_minor": 2
}
